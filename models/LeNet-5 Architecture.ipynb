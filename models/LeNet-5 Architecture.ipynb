{
 "cells": [
  {
   "cell_type": "markdown",
   "id": "ea99aa42",
   "metadata": {},
   "source": [
    "#### LeNet-5\n",
    "https://thecleverprogrammer.com/2021/10/09/lenet-5-architecture-using-python/\n",
    "\n",
    "research paper: http://yann.lecun.com/exdb/publis/pdf/lecun-01a.pdf\n",
    "\n",
    "https://www.analyticsvidhya.com/blog/2021/03/the-architecture-of-lenet-5/"
   ]
  },
  {
   "cell_type": "code",
   "execution_count": 1,
   "id": "ad2ba9f1",
   "metadata": {},
   "outputs": [
    {
     "ename": "AttributeError",
     "evalue": "module 'tensorflow._api.v2.random' has no attribute 'set_random_seed'",
     "output_type": "error",
     "traceback": [
      "\u001b[1;31m---------------------------------------------------------------------------\u001b[0m",
      "\u001b[1;31mAttributeError\u001b[0m                            Traceback (most recent call last)",
      "Cell \u001b[1;32mIn[1], line 5\u001b[0m\n\u001b[0;32m      3\u001b[0m \u001b[38;5;28;01mimport\u001b[39;00m \u001b[38;5;21;01mtensorflow\u001b[39;00m \u001b[38;5;28;01mas\u001b[39;00m \u001b[38;5;21;01mtf\u001b[39;00m\n\u001b[0;32m      4\u001b[0m \u001b[38;5;66;03m# tensorflow.random.set_seed(2)\u001b[39;00m\n\u001b[1;32m----> 5\u001b[0m \u001b[43mtf\u001b[49m\u001b[38;5;241;43m.\u001b[39;49m\u001b[43mrandom\u001b[49m\u001b[38;5;241;43m.\u001b[39;49m\u001b[43mset_random_seed\u001b[49m(\u001b[38;5;241m2\u001b[39m)\n",
      "\u001b[1;31mAttributeError\u001b[0m: module 'tensorflow._api.v2.random' has no attribute 'set_random_seed'"
     ]
    }
   ],
   "source": [
    "from numpy.random import seed\n",
    "seed(1)\n",
    "import tensorflow as tf\n",
    "# tensorflow.random.set_seed(2)\n",
    "tf.random.set_random_seed(2)"
   ]
  },
  {
   "cell_type": "code",
   "execution_count": 17,
   "id": "7bf2fd5a",
   "metadata": {},
   "outputs": [],
   "source": [
    "import pandas as pd\n",
    "\n",
    "# load the dataset\n",
    "dataset = pd.read_csv('./multiclass-4190-distance-input.csv')"
   ]
  },
  {
   "cell_type": "code",
   "execution_count": 18,
   "id": "ea3fc5d6",
   "metadata": {},
   "outputs": [
    {
     "name": "stdout",
     "output_type": "stream",
     "text": [
      "       linesCount  assignmentsCount  selectionStatementsCount  \\\n",
      "0               0                 0                         0   \n",
      "1               0                 0                         0   \n",
      "2               0                 0                         0   \n",
      "3               0                 0                         0   \n",
      "4               0                 0                         0   \n",
      "...           ...               ...                       ...   \n",
      "25135          21                 2                         0   \n",
      "25136           9                 1                         0   \n",
      "25137           4                 2                         0   \n",
      "25138           5                 1                         1   \n",
      "25139          36                 1                         1   \n",
      "\n",
      "       iterationStatementsCount  synchronizedStatementsCount  \\\n",
      "0                             0                            0   \n",
      "1                             0                            0   \n",
      "2                             0                            0   \n",
      "3                             0                            0   \n",
      "4                             0                            0   \n",
      "...                         ...                          ...   \n",
      "25135                         1                            0   \n",
      "25136                         1                            0   \n",
      "25137                         1                            0   \n",
      "25138                         1                            0   \n",
      "25139                         1                            0   \n",
      "\n",
      "       returnStatementsCount  switchCaseStatementsCount  tryStatementsCount  \\\n",
      "0                          0                          0                   0   \n",
      "1                          0                          0                   0   \n",
      "2                          0                          0                   0   \n",
      "3                          0                          0                   0   \n",
      "4                          0                          0                   0   \n",
      "...                      ...                        ...                 ...   \n",
      "25135                      0                          0                   1   \n",
      "25136                      1                          0                   1   \n",
      "25137                      1                          0                   1   \n",
      "25138                      0                          0                   2   \n",
      "25139                      1                          8                   2   \n",
      "\n",
      "       singleVariableDeclarationCount  variableDeclarationCount  ...  \\\n",
      "0                                   0                         0  ...   \n",
      "1                                   0                         0  ...   \n",
      "2                                   0                         0  ...   \n",
      "3                                   0                         0  ...   \n",
      "4                                   0                         0  ...   \n",
      "...                               ...                       ...  ...   \n",
      "25135                               3                        11  ...   \n",
      "25136                               3                         2  ...   \n",
      "25137                               1                         4  ...   \n",
      "25138                               2                         1  ...   \n",
      "25139                               2                         3  ...   \n",
      "\n",
      "       boxedTypesCount  arrayCreationLevelsCount  polyExprsCount  \\\n",
      "0                    0                         0               0   \n",
      "1                    0                         0               0   \n",
      "2                    0                         0               0   \n",
      "3                    0                         0               0   \n",
      "4                    0                         0               0   \n",
      "...                ...                       ...             ...   \n",
      "25135                0                         1               0   \n",
      "25136                0                         0               0   \n",
      "25137                0                         0               0   \n",
      "25138                0                         0               0   \n",
      "25139                0                         0               0   \n",
      "\n",
      "       standaloneExprsCount  elidedTypeArgumentsCount  \\\n",
      "0                         0                         0   \n",
      "1                         0                         0   \n",
      "2                         0                         0   \n",
      "3                         0                         0   \n",
      "4                         0                         0   \n",
      "...                     ...                       ...   \n",
      "25135                    55                        55   \n",
      "25136                    27                        27   \n",
      "25137                    17                        17   \n",
      "25138                     7                         7   \n",
      "25139                    82                        82   \n",
      "\n",
      "       qualifiedExprNamesCount  simpleExprNamesCount  primaryExprsCount  \\\n",
      "0                            0                     0                  0   \n",
      "1                            0                     0                  0   \n",
      "2                            0                     0                  0   \n",
      "3                            0                     0                  0   \n",
      "4                            0                     0                  0   \n",
      "...                        ...                   ...                ...   \n",
      "25135                       18                    22                 28   \n",
      "25136                        5                    10                 20   \n",
      "25137                        4                     5                  5   \n",
      "25138                        3                     1                  1   \n",
      "25139                       14                    32                 47   \n",
      "\n",
      "       literalExprsCount  cloneType  \n",
      "0                      0         t1  \n",
      "1                      0         t1  \n",
      "2                      0         t1  \n",
      "3                      0         t1  \n",
      "4                      0         t1  \n",
      "...                  ...        ...  \n",
      "25135                  7         t0  \n",
      "25136                 11         t0  \n",
      "25137                  0         t0  \n",
      "25138                  1         t0  \n",
      "25139                  9         t0  \n",
      "\n",
      "[25140 rows x 49 columns]\n"
     ]
    }
   ],
   "source": [
    "print(dataset)"
   ]
  },
  {
   "cell_type": "code",
   "execution_count": 19,
   "id": "ad271cce",
   "metadata": {},
   "outputs": [
    {
     "name": "stdout",
     "output_type": "stream",
     "text": [
      "[[ 0  0  0 ...  0  0  0]\n",
      " [ 0  0  0 ...  0  0  0]\n",
      " [ 0  0  0 ...  0  0  0]\n",
      " ...\n",
      " [ 4  2  0 ...  5  5  0]\n",
      " [ 5  1  1 ...  1  1  1]\n",
      " [36  1  1 ... 32 47  9]]\n",
      "['t1' 't1' 't1' ... 't0' 't0' 't0']\n",
      "(25140, 48)\n",
      "(25140,)\n",
      "2\n",
      "1\n"
     ]
    }
   ],
   "source": [
    "# split dataset into X and Y\n",
    "# columns are 0-based index\n",
    "\n",
    "# x = dataset.iloc[:, 0:28].values # 0:28 means 0th-indexed column to 27th-indexed column - wildcardTypesCount\n",
    "# y = dataset.iloc[:, -1].values # -1 refers to the last column - cloneType\n",
    "\n",
    "x = dataset.iloc[:, 0:-1].values\n",
    "y = dataset.iloc[:, -1].values # -1 refers to the last column - cloneType\n",
    "\n",
    "print(x)\n",
    "print(y)\n",
    "\n",
    "print(x.shape) # (25140, 48) = 25140 number of vectors in it and 48 number of scalars in each vector.\n",
    "print(y.shape) # (25140,) = 25140 number of scalers. Vector. So one-dimensional data.\n",
    "\n",
    "print(x.ndim)\n",
    "print(y.ndim)"
   ]
  },
  {
   "cell_type": "code",
   "execution_count": 20,
   "id": "2c63e3eb",
   "metadata": {},
   "outputs": [
    {
     "name": "stdout",
     "output_type": "stream",
     "text": [
      "[[1 0 0 0 0 0]\n",
      " [1 0 0 0 0 0]\n",
      " [1 0 0 0 0 0]\n",
      " ...\n",
      " [0 0 0 0 0 1]\n",
      " [0 0 0 0 0 1]\n",
      " [0 0 0 0 0 1]]\n",
      "(25140, 6)\n",
      "2\n"
     ]
    }
   ],
   "source": [
    "from sklearn.preprocessing import OneHotEncoder, LabelBinarizer, label_binarize, LabelEncoder\n",
    "import numpy as np\n",
    "\n",
    "# define One-Hot Encoding\n",
    "# encoder = OneHotEncoder(sparse = False)\n",
    "# transform data\n",
    "# y = encoder.fit_transform(y.reshape(-1,1))\n",
    "\n",
    "# lb = LabelBinarizer()\n",
    "# lb.fit(y) # target classes are arranged in alphabetically and not in our wish. So, for a class occurance 1 will be added, others will be 0.\n",
    "# print(lb.classes_) # ['mt3' 'st3' 't0' 't1' 'vst3' 'wt3']\n",
    "# y = lb.transform(y) # according to classes_, 1 will be added. Example, [0 0 0 1 0 0] or 3 represents 't1' class.\n",
    "# print(y)\n",
    "\n",
    "# This function makes it possible to compute this transformation for a fixed set of class labels known ahead of time.\n",
    "# label_binarize function preserves class order according to our wish!\n",
    "# https://scikit-learn.org/stable/modules/generated/sklearn.preprocessing.label_binarize.html#sklearn.preprocessing.label_binarize\n",
    "y = label_binarize(y, classes=['t1', 'vst3', 'st3', 'mt3', 'wt3', 't0']) # Example, [0 0 0 1 0 0] or 3 represents 'mt3' class.\n",
    "print(y)\n",
    "print(y.shape)\n",
    "print(y.ndim)\n",
    "\n",
    "# define LabelEncoder\n",
    "# le = LabelEncoder()\n",
    "# le.fit(y)\n",
    "# print(list(le.classes_))\n",
    "# y = le.transform(y)\n",
    "# print(y)"
   ]
  },
  {
   "cell_type": "code",
   "execution_count": 21,
   "id": "04a8d42f",
   "metadata": {},
   "outputs": [
    {
     "name": "stderr",
     "output_type": "stream",
     "text": [
      "Using TensorFlow backend.\n"
     ]
    }
   ],
   "source": [
    "from tensorflow import keras\n",
    "import keras.layers as layers\n",
    "import keras.models as models\n",
    "import time\n",
    "from datetime import timedelta"
   ]
  },
  {
   "cell_type": "markdown",
   "id": "786188fa",
   "metadata": {},
   "source": [
    "# # Stratified K-Fold Begins!"
   ]
  },
  {
   "cell_type": "code",
   "execution_count": null,
   "id": "7440e303",
   "metadata": {},
   "outputs": [],
   "source": [
    "t1_recall = []\n",
    "vst3_recall = []\n",
    "st3_recall = []\n",
    "mt3_recall = []\n",
    "wt3_recall = []\n",
    "t0_recall = []\n",
    "\n",
    "def appendRecallForEachClass(arr):\n",
    "    t1_recall.append(arr[0])\n",
    "    vst3_recall.append(arr[1])\n",
    "    st3_recall.append(arr[2])\n",
    "    mt3_recall.append(arr[3])\n",
    "    wt3_recall.append(arr[4])\n",
    "    t0_recall.append(arr[5])\n",
    "    # printRecallForEachClass(arr)\n",
    "\n",
    "def printRecallForEachClass(arr):\n",
    "    print(arr)\n",
    "    print(t1_recall)\n",
    "    print(vst3_recall)\n",
    "    print(st3_recall)\n",
    "    print(mt3_recall)\n",
    "    print(wt3_recall)\n",
    "    print(t0_recall)"
   ]
  },
  {
   "cell_type": "code",
   "execution_count": null,
   "id": "d2a8771e",
   "metadata": {},
   "outputs": [],
   "source": [
    "t1_precision = []\n",
    "vst3_precision = []\n",
    "st3_precision = []\n",
    "mt3_precision = []\n",
    "wt3_precision = []\n",
    "t0_precision = []\n",
    "\n",
    "def appendPrecisionForEachClass(arr):\n",
    "    t1_precision.append(arr[0])\n",
    "    vst3_precision.append(arr[1])\n",
    "    st3_precision.append(arr[2])\n",
    "    mt3_precision.append(arr[3])\n",
    "    wt3_precision.append(arr[4])\n",
    "    t0_precision.append(arr[5])\n",
    "    # printPrecisionForEachClass(arr)\n",
    "\n",
    "def printPrecisionForEachClass(arr):\n",
    "    print(arr)\n",
    "    print(t1_precision)\n",
    "    print(vst3_precision)\n",
    "    print(st3_precision)\n",
    "    print(mt3_precision)\n",
    "    print(wt3_precision)\n",
    "    print(t0_precision)"
   ]
  },
  {
   "cell_type": "code",
   "execution_count": null,
   "id": "7902211a",
   "metadata": {},
   "outputs": [],
   "source": [
    "t1_f1score = []\n",
    "vst3_f1score = []\n",
    "st3_f1score = []\n",
    "mt3_f1score = []\n",
    "wt3_f1score = []\n",
    "t0_f1score = []\n",
    "\n",
    "def appendF1ScoreForEachClass(arr):\n",
    "    t1_f1score.append(arr[0])\n",
    "    vst3_f1score.append(arr[1])\n",
    "    st3_f1score.append(arr[2])\n",
    "    mt3_f1score.append(arr[3])\n",
    "    wt3_f1score.append(arr[4])\n",
    "    t0_f1score.append(arr[5])\n",
    "    # printF1ScoreForEachClass(arr)\n",
    "\n",
    "def printF1ScoreForEachClass(arr):\n",
    "    print(arr)\n",
    "    print(t1_f1score)\n",
    "    print(vst3_f1score)\n",
    "    print(st3_f1score)\n",
    "    print(mt3_f1score)\n",
    "    print(wt3_f1score)\n",
    "    print(t0_f1score)"
   ]
  },
  {
   "cell_type": "code",
   "execution_count": null,
   "id": "bb271596",
   "metadata": {},
   "outputs": [],
   "source": [
    "from sklearn.model_selection import StratifiedKFold\n",
    "from sklearn.metrics import accuracy_score, f1_score, recall_score, precision_score, classification_report\n",
    "\n",
    "skf = StratifiedKFold(n_splits=10, shuffle=True, random_state=42)\n",
    "\n",
    "bSize = 32\n",
    "eSize = 500\n",
    "\n",
    "accuracy = []\n",
    "recall_macro = [] # macro and weighted results will be the same as we have balance among labels!\n",
    "recall_micro = []\n",
    "recall_weighted = []\n",
    "precision_macro = []\n",
    "precision_micro = []\n",
    "precision_weighted = []\n",
    "f1_macro = []\n",
    "f1_micro = []\n",
    "f1_weighted = []\n",
    "\n",
    "fold = 0\n",
    "\n",
    "# start timer\n",
    "start_time = time.time()\n",
    "\n",
    "# For further references - https://www.youtube.com/watch?v=maiQf8ray_s&t=806s\n",
    "# to maintain a balance between x and y, we need to pass in y - 'cloneType' as the second argument\n",
    "# for y, we need to pass \"original class\", not the dummy variables.\n",
    "for train, test in skf.split(x, dataset['cloneType']):\n",
    "    fold = fold + 1\n",
    "    print(f\"Fold: {fold}\")\n",
    "    print(f\"Input Dimension: {x.shape[1]}\")\n",
    "    print(f\"Output Units: {y.shape[1]}\")\n",
    "    print(f\"Batch Size: {bSize}\")\n",
    "    print(f\"Epochs: {eSize}\")\n",
    "\n",
    "    x_train = x[train]\n",
    "    y_train = y[train]\n",
    "    \n",
    "    x_test = x[test]\n",
    "    y_test = y[test]\n",
    "    \n",
    "    print(f\"x_train size: {len(x_train)}\")\n",
    "    print(f\"y_train size: {len(y_train)}\")\n",
    "    print(f\"x_test size: {len(x_test)}\")\n",
    "    print(f\"y_test size: {len(y_test)}\")\n",
    "\n",
    "    # Conv1D - convolutional filters move in 1-direction.\n",
    "    # Let's Create the Model!\n",
    "    model = models.Sequential()\n",
    "\n",
    "    model.add(layers.Conv1D(filters = 6, strides = 1, kernel_size = 5, activation = 'tanh', input_shape = (x.shape[1],1)))\n",
    "    model.add(layers.AveragePooling1D(pool_size = 2, strides = 2))\n",
    "\n",
    "    model.add(layers.Conv1D(filters = 16, strides = 1, kernel_size = 5, activation = 'tanh'))\n",
    "    model.add(layers.AveragePooling1D(pool_size=2, strides = 2))\n",
    "\n",
    "    model.add(layers.Conv1D(filters = 120, strides = 1, kernel_size = 5, activation = 'tanh'))\n",
    "\n",
    "    model.add(layers.Flatten())\n",
    "\n",
    "    model.add(layers.Dense(units = 420, activation = 'tanh'))\n",
    "\n",
    "    model.add(layers.Dense(units = y.shape[1], activation = 'softmax'))\n",
    "\n",
    "    model.compile(loss ='categorical_crossentropy', optimizer = 'adam', metrics = ['accuracy'])\n",
    "    \n",
    "    model.summary()\n",
    "    \n",
    "    model.fit(x_train, y_train, batch_size = bSize, epochs = eSize)\n",
    "    \n",
    "    y_pred = model.predict(x_test)\n",
    "    y_pred = np.argmax(y_pred, axis = -1)\n",
    "    print(f\"y_pred: {y_pred}\")\n",
    "\n",
    "    y_test = np.argmax(y_test, axis = -1)\n",
    "    print(f\"y_test: {y_test}\")\n",
    "\n",
    "    # accuracy\n",
    "    acc = accuracy_score(y_test, y_pred)\n",
    "    print(f\"Fold {fold}'s Accuracy Score {acc}\")\n",
    "    accuracy.append(acc)\n",
    "\n",
    "    # recall\n",
    "\n",
    "    # recall macro average - This parameter is required for multiclass/multilabel targets.\n",
    "    recallmacro = recall_score(y_test, y_pred, average='macro')\n",
    "    print(f\"Fold {fold}'s Recall Macro Score {recallmacro}\")\n",
    "    recall_macro.append(recallmacro)\n",
    "\n",
    "    # recall micro average - This parameter is required for multiclass/multilabel targets.\n",
    "    recallmicro = recall_score(y_test, y_pred, average='micro')\n",
    "    print(f\"Fold {fold}'s Recall Micro Score {recallmicro}\")\n",
    "    recall_micro.append(recallmicro)\n",
    "\n",
    "    # recall weighted average - This parameter is required for multiclass/multilabel targets.\n",
    "    recallweighted = recall_score(y_test, y_pred, average='weighted')\n",
    "    print(f\"Fold {fold}'s Recall Weighted Score {recallweighted}\")\n",
    "    recall_weighted.append(recallweighted)\n",
    "\n",
    "    # precision\n",
    "\n",
    "    # precision macro average - This parameter is required for multiclass/multilabel targets.\n",
    "    precisionmacro = precision_score(y_test, y_pred, average='macro')\n",
    "    print(f\"Fold {fold}'s Precision Macro Score {precisionmacro}\")\n",
    "    precision_macro.append(precisionmacro)\n",
    "\n",
    "    # precision micro average - This parameter is required for multiclass/multilabel targets.\n",
    "    precisionmicro = precision_score(y_test, y_pred, average='micro')\n",
    "    print(f\"Fold {fold}'s Precision Micro Score {precisionmicro}\")\n",
    "    precision_micro.append(precisionmicro)\n",
    "\n",
    "    # precision weighted average - This parameter is required for multiclass/multilabel targets.\n",
    "    precisionweighted = precision_score(y_test, y_pred, average='weighted')\n",
    "    print(f\"Fold {fold}'s Precision Weighted Score {precisionweighted}\")\n",
    "    precision_weighted.append(precisionweighted)\n",
    "\n",
    "    # f1 score\n",
    "\n",
    "    # f1 macro average - This parameter is required for multiclass/multilabel targets.\n",
    "    f1macro = f1_score(y_test, y_pred, average='macro')\n",
    "    print(f\"Fold {fold}'s F1 Macro Score {f1macro}\")\n",
    "    f1_macro.append(f1macro)\n",
    "\n",
    "    # f1 micro average - This parameter is required for multiclass/multilabel targets.\n",
    "    f1micro = f1_score(y_test, y_pred, average='micro')\n",
    "    print(f\"Fold {fold}'s F1 Micro Score {f1micro}\")\n",
    "    f1_micro.append(f1micro)\n",
    "\n",
    "    # f1 weighted average - This parameter is required for multiclass/multilabel targets.\n",
    "    f1weighted = f1_score(y_test, y_pred, average='weighted')\n",
    "    print(f\"Fold {fold}'s F1 Weighted Score {f1weighted}\")\n",
    "    f1_weighted.append(f1weighted)\n",
    "\n",
    "    # target_names = ['Type 1/2', 'VST3', 'ST3', 'MT3', 'WT3/4', 'False']\n",
    "    # print(classification_report(y_test, y_pred, target_names=target_names))\n",
    "\n",
    "    # collect details class-vice\n",
    "    appendRecallForEachClass(recall_score(y_test, y_pred, average=None))\n",
    "    appendPrecisionForEachClass(precision_score(y_test, y_pred, average=None))\n",
    "    appendF1ScoreForEachClass(f1_score(y_test, y_pred, average=None))\n",
    "    \n",
    "# Stop timer clock\n",
    "elapsed = time.time() - start_time"
   ]
  },
  {
   "cell_type": "code",
   "execution_count": null,
   "id": "0e46056f",
   "metadata": {},
   "outputs": [],
   "source": [
    "print(elapsed)\n",
    "\n",
    "# Calculate K-fold execution duration\n",
    "print(\"K-fold execution duration: \" + str(timedelta(seconds=elapsed)))"
   ]
  },
  {
   "cell_type": "code",
   "execution_count": null,
   "id": "f2c08946",
   "metadata": {},
   "outputs": [],
   "source": [
    "# Overall K-fold's accuracy\n",
    "from statistics import mean\n",
    "\n",
    "print(f\"Testing accuracy array: {accuracy}\")\n",
    "print(\"Final accuracy score is: {:0.2f}%\".format(mean(accuracy) * 100))"
   ]
  },
  {
   "cell_type": "code",
   "execution_count": null,
   "id": "76453fae",
   "metadata": {},
   "outputs": [],
   "source": [
    "# Precision Macro\n",
    "print(f\"Testing Precision Macro array: {precision_macro}\")\n",
    "print(\"Final Precision Macro score is: {:0.2f}%\".format(mean(precision_macro) * 100))\n",
    "\n",
    "# Precision Micro\n",
    "print(f\"Testing Precision Micro array: {precision_micro}\")\n",
    "print(\"Final Precision Micro score is: {:0.2f}%\".format(mean(precision_micro) * 100))\n",
    "\n",
    "# Precision Weighted\n",
    "print(f\"Testing Precision Weighted array: {precision_weighted}\")\n",
    "print(\"Final Precision Weighted score is: {:0.2f}%\".format(mean(precision_weighted) * 100))"
   ]
  },
  {
   "cell_type": "code",
   "execution_count": null,
   "id": "35e8d1d2",
   "metadata": {},
   "outputs": [],
   "source": [
    "# Recall Macro\n",
    "print(f\"Testing Recall Macro array: {recall_macro}\")\n",
    "print(\"Final Recall Macro score is: {:0.2f}%\".format(mean(recall_macro) * 100))\n",
    "\n",
    "# Recall Micro\n",
    "print(f\"Testing Recall Micro array: {recall_micro}\")\n",
    "print(\"Final Recall Micro score is: {:0.2f}%\".format(mean(recall_micro) * 100))\n",
    "\n",
    "# Recall Weighted\n",
    "print(f\"Testing Recall Weighted array: {recall_weighted}\")\n",
    "print(\"Final Recall Weighted score is: {:0.2f}%\".format(mean(recall_weighted) * 100))"
   ]
  },
  {
   "cell_type": "code",
   "execution_count": null,
   "id": "ad189af8",
   "metadata": {},
   "outputs": [],
   "source": [
    "# F1 Macro\n",
    "print(f\"Testing F1 Macro array: {f1_macro}\")\n",
    "print(\"Final F1 Macro score is: {:0.2f}%\".format(mean(f1_macro) * 100))\n",
    "\n",
    "# F1 Micro\n",
    "print(f\"Testing F1 Micro array: {f1_micro}\")\n",
    "print(\"Final F1 Micro score is: {:0.2f}%\".format(mean(f1_micro) * 100))\n",
    "\n",
    "# F1 Weighted\n",
    "print(f\"Testing F1 Weighted array: {f1_weighted}\")\n",
    "print(\"Final F1 Weighted score is: {:0.2f}%\".format(mean(f1_weighted) * 100))"
   ]
  },
  {
   "cell_type": "code",
   "execution_count": null,
   "id": "a4e80d22",
   "metadata": {},
   "outputs": [],
   "source": [
    "# Recall by Class\n",
    "print(len(t1_recall))\n",
    "print(\"Type 1 Recall: {:0.2f}%\".format(mean(t1_recall) * 100))\n",
    "print(\"VST3 Recall: {:0.2f}%\".format(mean(vst3_recall) * 100))\n",
    "print(\"ST3 Recall: {:0.2f}%\".format(mean(st3_recall) * 100))\n",
    "print(\"MT3 Recall: {:0.2f}%\".format(mean(mt3_recall) * 100))\n",
    "print(\"WT3/4 Recall: {:0.2f}%\".format(mean(wt3_recall) * 100))\n",
    "print(\"False Recall: {:0.2f}%\".format(mean(t0_recall) * 100))"
   ]
  },
  {
   "cell_type": "code",
   "execution_count": null,
   "id": "b2bf27cf",
   "metadata": {},
   "outputs": [],
   "source": [
    "# Precision by Class\n",
    "print(len(wt3_precision))\n",
    "print(\"Type 1 Precision: {:0.2f}%\".format(mean(t1_precision) * 100))\n",
    "print(\"VST3 Precision: {:0.2f}%\".format(mean(vst3_precision) * 100))\n",
    "print(\"ST3 Precision: {:0.2f}%\".format(mean(st3_precision) * 100))\n",
    "print(\"MT3 Precision: {:0.2f}%\".format(mean(mt3_precision) * 100))\n",
    "print(\"WT3/4 Precision: {:0.2f}%\".format(mean(wt3_precision) * 100))\n",
    "print(\"False Precision: {:0.2f}%\".format(mean(t0_precision) * 100))"
   ]
  },
  {
   "cell_type": "code",
   "execution_count": null,
   "id": "bcafec46",
   "metadata": {},
   "outputs": [],
   "source": [
    "# F1 Score by Class\n",
    "print(len(mt3_f1score))\n",
    "print(\"Type 1 F1 Score: {:0.2f}%\".format(mean(t1_f1score) * 100))\n",
    "print(\"VST3 F1 Score: {:0.2f}%\".format(mean(vst3_f1score) * 100))\n",
    "print(\"ST3 F1 Score: {:0.2f}%\".format(mean(st3_f1score) * 100))\n",
    "print(\"MT3 F1 Score: {:0.2f}%\".format(mean(mt3_f1score) * 100))\n",
    "print(\"WT3/4 F1 Score: {:0.2f}%\".format(mean(wt3_f1score) * 100))\n",
    "print(\"False F1 Score: {:0.2f}%\".format(mean(t0_f1score) * 100))"
   ]
  },
  {
   "cell_type": "markdown",
   "id": "2c01a26c",
   "metadata": {},
   "source": [
    "# # Stratified K-fold Ends!"
   ]
  },
  {
   "cell_type": "markdown",
   "id": "7afdf776",
   "metadata": {},
   "source": [
    "# # Train-Test Split Method Begins!"
   ]
  },
  {
   "cell_type": "code",
   "execution_count": 42,
   "id": "017e64ab",
   "metadata": {},
   "outputs": [
    {
     "name": "stdout",
     "output_type": "stream",
     "text": [
      "(17598, 48)\n",
      "(17598, 6)\n"
     ]
    }
   ],
   "source": [
    "# Split the x and y dataset into the Training set and Test set while performing the data shuffling\n",
    "# https://www.kaggle.com/questions-and-answers/189700 - don't use train-test split, we'll use CV\n",
    "from sklearn.model_selection import train_test_split\n",
    "# x_train, x_test, y_train, y_test = train_test_split(x, y, test_size = 0.3, random_state = 42)\n",
    "x_train, x_test, y_train, y_test = train_test_split(x, y, test_size = 0.3)\n",
    "\n",
    "print(x_train.shape)\n",
    "print(y_train.shape)\n",
    "\n",
    "# import numpy as np\n",
    "\n",
    "# # Assuming `x_train` is your input data with shape (17598, 48)\n",
    "# x_train = np.expand_dims(x_train, axis=1)\n",
    "# # Now x_train has shape (17598, 1, 48)\n",
    "# print(x_train.shape)\n",
    "\n",
    "# x_train = np.swapaxes(x_train, 1, 2)\n",
    "# print(x_train.shape)\n"
   ]
  },
  {
   "cell_type": "code",
   "execution_count": 43,
   "id": "9c817734",
   "metadata": {},
   "outputs": [
    {
     "name": "stdout",
     "output_type": "stream",
     "text": [
      "Model: \"sequential_9\"\n",
      "_________________________________________________________________\n",
      "Layer (type)                 Output Shape              Param #   \n",
      "=================================================================\n",
      "conv1d_21 (Conv1D)           (None, 44, 6)             36        \n",
      "_________________________________________________________________\n",
      "average_pooling1d_13 (Averag (None, 22, 6)             0         \n",
      "_________________________________________________________________\n",
      "conv1d_22 (Conv1D)           (None, 18, 16)            496       \n",
      "_________________________________________________________________\n",
      "average_pooling1d_14 (Averag (None, 9, 16)             0         \n",
      "_________________________________________________________________\n",
      "conv1d_23 (Conv1D)           (None, 5, 120)            9720      \n",
      "_________________________________________________________________\n",
      "flatten_7 (Flatten)          (None, 600)               0         \n",
      "_________________________________________________________________\n",
      "dense_13 (Dense)             (None, 420)               252420    \n",
      "_________________________________________________________________\n",
      "dense_14 (Dense)             (None, 6)                 2526      \n",
      "=================================================================\n",
      "Total params: 265,198\n",
      "Trainable params: 265,198\n",
      "Non-trainable params: 0\n",
      "_________________________________________________________________\n"
     ]
    }
   ],
   "source": [
    "# Conv1D - convolutional filters move in 1-direction.\n",
    "model = models.Sequential()\n",
    "\n",
    "model.add(layers.Conv1D(filters = 6, strides = 1, kernel_size = 5, activation = 'relu', input_shape = (x.shape[1],1)))\n",
    "model.add(layers.AveragePooling1D(pool_size = 2, strides = 2))\n",
    "\n",
    "model.add(layers.Conv1D(filters = 16, strides = 1, kernel_size = 5, activation = 'relu'))\n",
    "model.add(layers.AveragePooling1D(pool_size=2, strides = 2))\n",
    "\n",
    "model.add(layers.Conv1D(filters = 120, strides = 1, kernel_size = 5, activation = 'relu'))\n",
    "\n",
    "model.add(layers.Flatten())\n",
    "\n",
    "model.add(layers.Dense(units = 420, activation = 'relu'))\n",
    "\n",
    "model.add(layers.Dense(units = y.shape[1], activation = 'softmax'))\n",
    "\n",
    "model.compile(loss ='categorical_crossentropy', optimizer = 'adam', metrics = ['accuracy'])\n",
    "\n",
    "model.summary()"
   ]
  },
  {
   "cell_type": "code",
   "execution_count": 38,
   "id": "0af46f78",
   "metadata": {},
   "outputs": [
    {
     "ename": "ValueError",
     "evalue": "Error when checking input: expected conv1d_17_input to have 3 dimensions, but got array with shape (17598, 48)",
     "output_type": "error",
     "traceback": [
      "\u001b[1;31m---------------------------------------------------------------------------\u001b[0m",
      "\u001b[1;31mValueError\u001b[0m                                Traceback (most recent call last)",
      "\u001b[1;32m~\\AppData\\Local\\Temp\\ipykernel_17836\\4284038170.py\u001b[0m in \u001b[0;36m<module>\u001b[1;34m\u001b[0m\n\u001b[0;32m     10\u001b[0m \u001b[1;33m\u001b[0m\u001b[0m\n\u001b[0;32m     11\u001b[0m \u001b[1;31m# Fit the ANN to the Training set\u001b[0m\u001b[1;33m\u001b[0m\u001b[1;33m\u001b[0m\u001b[1;33m\u001b[0m\u001b[0m\n\u001b[1;32m---> 12\u001b[1;33m \u001b[0mhistoryObject\u001b[0m \u001b[1;33m=\u001b[0m \u001b[0mmodel\u001b[0m\u001b[1;33m.\u001b[0m\u001b[0mfit\u001b[0m\u001b[1;33m(\u001b[0m\u001b[0mx_train\u001b[0m\u001b[1;33m,\u001b[0m \u001b[0my_train\u001b[0m\u001b[1;33m,\u001b[0m \u001b[0mbatch_size\u001b[0m \u001b[1;33m=\u001b[0m \u001b[1;36m32\u001b[0m\u001b[1;33m,\u001b[0m \u001b[0mepochs\u001b[0m \u001b[1;33m=\u001b[0m \u001b[1;36m500\u001b[0m\u001b[1;33m,\u001b[0m \u001b[0mcallbacks\u001b[0m\u001b[1;33m=\u001b[0m\u001b[1;33m[\u001b[0m\u001b[0mcsv_logger\u001b[0m\u001b[1;33m]\u001b[0m\u001b[1;33m)\u001b[0m\u001b[1;33m\u001b[0m\u001b[1;33m\u001b[0m\u001b[0m\n\u001b[0m\u001b[0;32m     13\u001b[0m \u001b[1;33m\u001b[0m\u001b[0m\n\u001b[0;32m     14\u001b[0m \u001b[1;31m# Stop timer clock\u001b[0m\u001b[1;33m\u001b[0m\u001b[1;33m\u001b[0m\u001b[1;33m\u001b[0m\u001b[0m\n",
      "\u001b[1;32mD:\\anaconda3\\envs\\py37\\lib\\site-packages\\keras\\engine\\training.py\u001b[0m in \u001b[0;36mfit\u001b[1;34m(self, x, y, batch_size, epochs, verbose, callbacks, validation_split, validation_data, shuffle, class_weight, sample_weight, initial_epoch, steps_per_epoch, validation_steps, validation_freq, max_queue_size, workers, use_multiprocessing, **kwargs)\u001b[0m\n\u001b[0;32m   1152\u001b[0m             \u001b[0msample_weight\u001b[0m\u001b[1;33m=\u001b[0m\u001b[0msample_weight\u001b[0m\u001b[1;33m,\u001b[0m\u001b[1;33m\u001b[0m\u001b[1;33m\u001b[0m\u001b[0m\n\u001b[0;32m   1153\u001b[0m             \u001b[0mclass_weight\u001b[0m\u001b[1;33m=\u001b[0m\u001b[0mclass_weight\u001b[0m\u001b[1;33m,\u001b[0m\u001b[1;33m\u001b[0m\u001b[1;33m\u001b[0m\u001b[0m\n\u001b[1;32m-> 1154\u001b[1;33m             batch_size=batch_size)\n\u001b[0m\u001b[0;32m   1155\u001b[0m \u001b[1;33m\u001b[0m\u001b[0m\n\u001b[0;32m   1156\u001b[0m         \u001b[1;31m# Prepare validation data.\u001b[0m\u001b[1;33m\u001b[0m\u001b[1;33m\u001b[0m\u001b[1;33m\u001b[0m\u001b[0m\n",
      "\u001b[1;32mD:\\anaconda3\\envs\\py37\\lib\\site-packages\\keras\\engine\\training.py\u001b[0m in \u001b[0;36m_standardize_user_data\u001b[1;34m(self, x, y, sample_weight, class_weight, check_array_lengths, batch_size)\u001b[0m\n\u001b[0;32m    577\u001b[0m             \u001b[0mfeed_input_shapes\u001b[0m\u001b[1;33m,\u001b[0m\u001b[1;33m\u001b[0m\u001b[1;33m\u001b[0m\u001b[0m\n\u001b[0;32m    578\u001b[0m             \u001b[0mcheck_batch_axis\u001b[0m\u001b[1;33m=\u001b[0m\u001b[1;32mFalse\u001b[0m\u001b[1;33m,\u001b[0m  \u001b[1;31m# Don't enforce the batch size.\u001b[0m\u001b[1;33m\u001b[0m\u001b[1;33m\u001b[0m\u001b[0m\n\u001b[1;32m--> 579\u001b[1;33m             exception_prefix='input')\n\u001b[0m\u001b[0;32m    580\u001b[0m \u001b[1;33m\u001b[0m\u001b[0m\n\u001b[0;32m    581\u001b[0m         \u001b[1;32mif\u001b[0m \u001b[0my\u001b[0m \u001b[1;32mis\u001b[0m \u001b[1;32mnot\u001b[0m \u001b[1;32mNone\u001b[0m\u001b[1;33m:\u001b[0m\u001b[1;33m\u001b[0m\u001b[1;33m\u001b[0m\u001b[0m\n",
      "\u001b[1;32mD:\\anaconda3\\envs\\py37\\lib\\site-packages\\keras\\engine\\training_utils.py\u001b[0m in \u001b[0;36mstandardize_input_data\u001b[1;34m(data, names, shapes, check_batch_axis, exception_prefix)\u001b[0m\n\u001b[0;32m    133\u001b[0m                         \u001b[1;34m': expected '\u001b[0m \u001b[1;33m+\u001b[0m \u001b[0mnames\u001b[0m\u001b[1;33m[\u001b[0m\u001b[0mi\u001b[0m\u001b[1;33m]\u001b[0m \u001b[1;33m+\u001b[0m \u001b[1;34m' to have '\u001b[0m \u001b[1;33m+\u001b[0m\u001b[1;33m\u001b[0m\u001b[1;33m\u001b[0m\u001b[0m\n\u001b[0;32m    134\u001b[0m                         \u001b[0mstr\u001b[0m\u001b[1;33m(\u001b[0m\u001b[0mlen\u001b[0m\u001b[1;33m(\u001b[0m\u001b[0mshape\u001b[0m\u001b[1;33m)\u001b[0m\u001b[1;33m)\u001b[0m \u001b[1;33m+\u001b[0m \u001b[1;34m' dimensions, but got array '\u001b[0m\u001b[1;33m\u001b[0m\u001b[1;33m\u001b[0m\u001b[0m\n\u001b[1;32m--> 135\u001b[1;33m                         'with shape ' + str(data_shape))\n\u001b[0m\u001b[0;32m    136\u001b[0m                 \u001b[1;32mif\u001b[0m \u001b[1;32mnot\u001b[0m \u001b[0mcheck_batch_axis\u001b[0m\u001b[1;33m:\u001b[0m\u001b[1;33m\u001b[0m\u001b[1;33m\u001b[0m\u001b[0m\n\u001b[0;32m    137\u001b[0m                     \u001b[0mdata_shape\u001b[0m \u001b[1;33m=\u001b[0m \u001b[0mdata_shape\u001b[0m\u001b[1;33m[\u001b[0m\u001b[1;36m1\u001b[0m\u001b[1;33m:\u001b[0m\u001b[1;33m]\u001b[0m\u001b[1;33m\u001b[0m\u001b[1;33m\u001b[0m\u001b[0m\n",
      "\u001b[1;31mValueError\u001b[0m: Error when checking input: expected conv1d_17_input to have 3 dimensions, but got array with shape (17598, 48)"
     ]
    }
   ],
   "source": [
    "import time\n",
    "from datetime import timedelta\n",
    "\n",
    "# start timer\n",
    "start_time = time.time()\n",
    "\n",
    "from keras.callbacks import CSVLogger\n",
    "\n",
    "csv_logger = CSVLogger('lenet_epoch_500_training.log', separator=',', append=False)\n",
    "\n",
    "# Fit the ANN to the Training set\n",
    "historyObject = model.fit(x_train, y_train, batch_size = 32, epochs = 500, callbacks=[csv_logger])\n",
    "\n",
    "# Stop timer clock\n",
    "elapsed = time.time() - start_time"
   ]
  },
  {
   "cell_type": "code",
   "execution_count": 38,
   "id": "79d167eb",
   "metadata": {},
   "outputs": [
    {
     "name": "stdout",
     "output_type": "stream",
     "text": [
      "3958.4453914165497\n",
      "Training duration: 1:05:58.445391\n"
     ]
    }
   ],
   "source": [
    "print(elapsed)\n",
    "\n",
    "# Calculate K-fold execution duration\n",
    "print(\"Training duration: \" + str(timedelta(seconds=elapsed)))"
   ]
  },
  {
   "cell_type": "code",
   "execution_count": 39,
   "id": "922f6884",
   "metadata": {},
   "outputs": [],
   "source": [
    "import os.path\n",
    "if os.path.isfile('models/lenet_epoch_500.h5') is False:\n",
    "    model.save('models/lenet_epoch_500.h5')"
   ]
  },
  {
   "cell_type": "code",
   "execution_count": 40,
   "id": "4430ea66",
   "metadata": {},
   "outputs": [
    {
     "name": "stdout",
     "output_type": "stream",
     "text": [
      "236/236 [==============================] - 1s 3ms/step\n"
     ]
    }
   ],
   "source": [
    "# 4. Predict the Test Set Results\n",
    "import numpy as np\n",
    "y_pred = model.predict(x_test)"
   ]
  },
  {
   "cell_type": "code",
   "execution_count": 41,
   "id": "cd510f51",
   "metadata": {},
   "outputs": [
    {
     "name": "stdout",
     "output_type": "stream",
     "text": [
      "(7542, 6)\n",
      "[0 2 0 ... 1 3 4]\n",
      "[[1 0 0 0 0 0]\n",
      " [0 0 1 0 0 0]\n",
      " [1 0 0 0 0 0]\n",
      " ...\n",
      " [0 1 0 0 0 0]\n",
      " [0 0 0 1 0 0]\n",
      " [0 0 0 0 1 0]]\n",
      "(7542, 6)\n",
      "[0 2 0 ... 1 3 4]\n",
      "(7542,)\n"
     ]
    }
   ],
   "source": [
    "# 5. Converting y_test, and y_pred from One-Hot encoding to integer encoding.\n",
    "\n",
    "# https://stackoverflow.com/questions/47564495/what-does-numpy-ndarray-shape-do\n",
    "# For a 1D array, the shape would be (n,) where n is the number of elements in your array.\n",
    "# For a 2D array, the shape would be (n,m) where n is the number of rows and m is the number of columns in your array.\n",
    "\n",
    "# Converting y_pred from One-Hot encoding to integer encoding.\n",
    "# y_pred = <class 'numpy.ndarray'>\n",
    "\n",
    "# shape is a tuple that always gives dimensions of the array.\n",
    "print(y_pred.shape) # (7542, 6) means 7542 rows and 6 columns\n",
    "y_pred = np.argmax(y_pred, axis = -1) # (axis = -1) represents the last axis. In this case, 6.\n",
    "print(y_pred)\n",
    "\n",
    "# collect y_test predicted class values\n",
    "# https://stackoverflow.com/questions/47435526/what-is-the-meaning-of-axis-1-in-keras-argmax\n",
    "print(y_test)\n",
    "print(y_test.shape) # (7542, 6) means 7542 rows and 6 columns\n",
    "y_test = np.argmax(y_test, axis = -1) # Returns the indices of the maximum values along an axis. (axis = -1) represents the last axis. In this case, values from 0 to 5 (predicted target classes).\n",
    "print(y_test)\n",
    "print(y_test.shape) # (7542,) means 1D array where 7542 elements available."
   ]
  },
  {
   "cell_type": "code",
   "execution_count": 42,
   "id": "1d60b343",
   "metadata": {},
   "outputs": [
    {
     "name": "stdout",
     "output_type": "stream",
     "text": [
      "              precision    recall  f1-score   support\n",
      "\n",
      "      Type 1       0.84      1.00      0.91      1287\n",
      "        VST3       0.95      0.76      0.85      1265\n",
      "         ST3       0.88      0.91      0.89      1245\n",
      "         MT3       0.90      0.87      0.88      1243\n",
      "       WT3/4       0.88      0.92      0.90      1248\n",
      "       False       0.88      0.86      0.87      1254\n",
      "\n",
      "    accuracy                           0.88      7542\n",
      "   macro avg       0.89      0.88      0.88      7542\n",
      "weighted avg       0.89      0.88      0.88      7542\n",
      "\n"
     ]
    }
   ],
   "source": [
    "# Classification report - https://scikit-learn.org/stable/modules/generated/sklearn.metrics.classification_report.html\n",
    "from sklearn.metrics import accuracy_score, f1_score, recall_score, precision_score, classification_report\n",
    "\n",
    "target_names = ['Type 1', 'VST3', 'ST3', 'MT3', 'WT3/4', 'False']\n",
    "\n",
    "print(classification_report(y_test, y_pred, target_names=target_names))\n",
    "\n",
    "# macro average (averaging the unweighted mean per label)\n",
    "# weighted average (averaging the support-weighted mean per label)\n",
    "# Support is the number of actual occurrences of the class in the specified dataset"
   ]
  },
  {
   "cell_type": "code",
   "execution_count": 43,
   "id": "01b75856",
   "metadata": {},
   "outputs": [
    {
     "name": "stdout",
     "output_type": "stream",
     "text": [
      "Final accuracy score is: 88.49%\n"
     ]
    }
   ],
   "source": [
    "# accuracy\n",
    "accuracy = accuracy_score(y_test, y_pred)\n",
    "print(\"Final accuracy score is: {:0.2f}%\".format(accuracy * 100))"
   ]
  },
  {
   "cell_type": "code",
   "execution_count": 44,
   "id": "91a95dfe",
   "metadata": {},
   "outputs": [
    {
     "name": "stdout",
     "output_type": "stream",
     "text": [
      "Final weighted precision score is: 88.89%\n"
     ]
    }
   ],
   "source": [
    "# precision weighted average - This parameter is required for multiclass/multilabel targets.\n",
    "precisionweighted = precision_score(y_test, y_pred, average='weighted')\n",
    "print(\"Final weighted precision score is: {:0.2f}%\".format(precisionweighted * 100))"
   ]
  },
  {
   "cell_type": "code",
   "execution_count": 45,
   "id": "aa78524b",
   "metadata": {},
   "outputs": [
    {
     "name": "stdout",
     "output_type": "stream",
     "text": [
      "Final weighted recall score is: 88.49%\n"
     ]
    }
   ],
   "source": [
    "# recall weighted average - This parameter is required for multiclass/multilabel targets.\n",
    "recallweighted = recall_score(y_test, y_pred, average='weighted')\n",
    "print(\"Final weighted recall score is: {:0.2f}%\".format(recallweighted * 100))"
   ]
  },
  {
   "cell_type": "code",
   "execution_count": 46,
   "id": "889e963e",
   "metadata": {},
   "outputs": [
    {
     "name": "stdout",
     "output_type": "stream",
     "text": [
      "Final weighted f1 score is: 88.37%\n"
     ]
    }
   ],
   "source": [
    "# f1 weighted average - This parameter is required for multiclass/multilabel targets.\n",
    "f1weighted = f1_score(y_test, y_pred, average='weighted')\n",
    "print(\"Final weighted f1 score is: {:0.2f}%\".format(f1weighted * 100))"
   ]
  },
  {
   "cell_type": "code",
   "execution_count": 47,
   "id": "a8543490",
   "metadata": {},
   "outputs": [],
   "source": [
    "t1_recall = []\n",
    "vst3_recall = []\n",
    "st3_recall = []\n",
    "mt3_recall = []\n",
    "wt3_recall = []\n",
    "t0_recall = []\n",
    "\n",
    "def appendRecallForEachClass(arr):\n",
    "    t1_recall.append(arr[0])\n",
    "    vst3_recall.append(arr[1])\n",
    "    st3_recall.append(arr[2])\n",
    "    mt3_recall.append(arr[3])\n",
    "    wt3_recall.append(arr[4])\n",
    "    t0_recall.append(arr[5])\n",
    "    # printRecallForEachClass(arr)\n",
    "\n",
    "def printRecallForEachClass(arr):\n",
    "    print(arr)\n",
    "    print(t1_recall)\n",
    "    print(vst3_recall)\n",
    "    print(st3_recall)\n",
    "    print(mt3_recall)\n",
    "    print(wt3_recall)\n",
    "    print(t0_recall)"
   ]
  },
  {
   "cell_type": "code",
   "execution_count": 48,
   "id": "232bdbb5",
   "metadata": {},
   "outputs": [],
   "source": [
    "t1_precision = []\n",
    "vst3_precision = []\n",
    "st3_precision = []\n",
    "mt3_precision = []\n",
    "wt3_precision = []\n",
    "t0_precision = []\n",
    "\n",
    "def appendPrecisionForEachClass(arr):\n",
    "    t1_precision.append(arr[0])\n",
    "    vst3_precision.append(arr[1])\n",
    "    st3_precision.append(arr[2])\n",
    "    mt3_precision.append(arr[3])\n",
    "    wt3_precision.append(arr[4])\n",
    "    t0_precision.append(arr[5])\n",
    "    # printPrecisionForEachClass(arr)\n",
    "\n",
    "def printPrecisionForEachClass(arr):\n",
    "    print(arr)\n",
    "    print(t1_precision)\n",
    "    print(vst3_precision)\n",
    "    print(st3_precision)\n",
    "    print(mt3_precision)\n",
    "    print(wt3_precision)\n",
    "    print(t0_precision)"
   ]
  },
  {
   "cell_type": "code",
   "execution_count": 49,
   "id": "e83e26d8",
   "metadata": {},
   "outputs": [],
   "source": [
    "t1_f1score = []\n",
    "vst3_f1score = []\n",
    "st3_f1score = []\n",
    "mt3_f1score = []\n",
    "wt3_f1score = []\n",
    "t0_f1score = []\n",
    "\n",
    "def appendF1ScoreForEachClass(arr):\n",
    "    t1_f1score.append(arr[0])\n",
    "    vst3_f1score.append(arr[1])\n",
    "    st3_f1score.append(arr[2])\n",
    "    mt3_f1score.append(arr[3])\n",
    "    wt3_f1score.append(arr[4])\n",
    "    t0_f1score.append(arr[5])\n",
    "    # printF1ScoreForEachClass(arr)\n",
    "\n",
    "def printF1ScoreForEachClass(arr):\n",
    "    print(arr)\n",
    "    print(t1_f1score)\n",
    "    print(vst3_f1score)\n",
    "    print(st3_f1score)\n",
    "    print(mt3_f1score)\n",
    "    print(wt3_f1score)\n",
    "    print(t0_f1score)"
   ]
  },
  {
   "cell_type": "code",
   "execution_count": 50,
   "id": "5741ec78",
   "metadata": {},
   "outputs": [
    {
     "name": "stdout",
     "output_type": "stream",
     "text": [
      "Final macro recall score is: 88.46%\n",
      "Final micro recall score is: 88.49%\n",
      "Final weighted recall score is: 88.49%\n",
      "Final macro precision score is: 88.90%\n",
      "Final micro precision score is: 88.49%\n",
      "Final weighted precision score is: 88.89%\n",
      "Final macro f1 score is: 88.37%\n",
      "Final micro f1 score is: 88.49%\n",
      "Final weighted f1 score is: 88.37%\n"
     ]
    }
   ],
   "source": [
    "# recall\n",
    "\n",
    "# recall macro average - This parameter is required for multiclass/multilabel targets.\n",
    "recallmacro = recall_score(y_test, y_pred, average='macro')\n",
    "print(\"Final macro recall score is: {:0.2f}%\".format(recallmacro * 100))\n",
    "\n",
    "# recall micro average - This parameter is required for multiclass/multilabel targets.\n",
    "recallmicro = recall_score(y_test, y_pred, average='micro')\n",
    "print(\"Final micro recall score is: {:0.2f}%\".format(recallmicro * 100))\n",
    "\n",
    "# recall weighted average - This parameter is required for multiclass/multilabel targets.\n",
    "recallweighted = recall_score(y_test, y_pred, average='weighted')\n",
    "print(\"Final weighted recall score is: {:0.2f}%\".format(recallweighted * 100))\n",
    "\n",
    "# precision\n",
    "\n",
    "# precision macro average - This parameter is required for multiclass/multilabel targets.\n",
    "precisionmacro = precision_score(y_test, y_pred, average='macro')\n",
    "print(\"Final macro precision score is: {:0.2f}%\".format(precisionmacro * 100))\n",
    "\n",
    "# precision micro average - This parameter is required for multiclass/multilabel targets.\n",
    "precisionmicro = precision_score(y_test, y_pred, average='micro')\n",
    "print(\"Final micro precision score is: {:0.2f}%\".format(precisionmicro * 100))\n",
    "\n",
    "# precision weighted average - This parameter is required for multiclass/multilabel targets.\n",
    "precisionweighted = precision_score(y_test, y_pred, average='weighted')\n",
    "print(\"Final weighted precision score is: {:0.2f}%\".format(precisionweighted * 100))\n",
    "\n",
    "# f1 score\n",
    "\n",
    "# f1 macro average - This parameter is required for multiclass/multilabel targets.\n",
    "f1macro = f1_score(y_test, y_pred, average='macro')\n",
    "print(\"Final macro f1 score is: {:0.2f}%\".format(f1macro * 100))\n",
    "\n",
    "# f1 micro average - This parameter is required for multiclass/multilabel targets.\n",
    "f1micro = f1_score(y_test, y_pred, average='micro')\n",
    "print(\"Final micro f1 score is: {:0.2f}%\".format(f1micro * 100))\n",
    "\n",
    "# f1 weighted average - This parameter is required for multiclass/multilabel targets.\n",
    "f1weighted = f1_score(y_test, y_pred, average='weighted')\n",
    "print(\"Final weighted f1 score is: {:0.2f}%\".format(f1weighted * 100))\n",
    "\n",
    "# collect details class-vice\n",
    "appendRecallForEachClass(recall_score(y_test, y_pred, average=None))\n",
    "appendPrecisionForEachClass(precision_score(y_test, y_pred, average=None))\n",
    "appendF1ScoreForEachClass(f1_score(y_test, y_pred, average=None))"
   ]
  },
  {
   "cell_type": "code",
   "execution_count": 51,
   "id": "4845fcb1",
   "metadata": {},
   "outputs": [
    {
     "name": "stdout",
     "output_type": "stream",
     "text": [
      "1\n",
      "Type 1 Recall: 100.00%\n",
      "VST3 Recall: 76.13%\n",
      "ST3 Recall: 90.68%\n",
      "MT3 Recall: 86.56%\n",
      "WT3/4 Recall: 91.59%\n",
      "False Recall: 85.81%\n"
     ]
    }
   ],
   "source": [
    "from statistics import mean\n",
    "\n",
    "# Recall by Class\n",
    "print(len(t1_recall))\n",
    "print(\"Type 1 Recall: {:0.2f}%\".format(mean(t1_recall) * 100))\n",
    "print(\"VST3 Recall: {:0.2f}%\".format(mean(vst3_recall) * 100))\n",
    "print(\"ST3 Recall: {:0.2f}%\".format(mean(st3_recall) * 100))\n",
    "print(\"MT3 Recall: {:0.2f}%\".format(mean(mt3_recall) * 100))\n",
    "print(\"WT3/4 Recall: {:0.2f}%\".format(mean(wt3_recall) * 100))\n",
    "print(\"False Recall: {:0.2f}%\".format(mean(t0_recall) * 100))"
   ]
  },
  {
   "cell_type": "code",
   "execution_count": 52,
   "id": "863bb56d",
   "metadata": {},
   "outputs": [
    {
     "name": "stdout",
     "output_type": "stream",
     "text": [
      "1\n",
      "Type 1 Precision: 83.90%\n",
      "VST3 Precision: 95.35%\n",
      "ST3 Precision: 88.07%\n",
      "MT3 Precision: 90.34%\n",
      "WT3/4 Precision: 87.79%\n",
      "False Precision: 87.98%\n"
     ]
    }
   ],
   "source": [
    "# Precision by Class\n",
    "print(len(wt3_precision))\n",
    "print(\"Type 1 Precision: {:0.2f}%\".format(mean(t1_precision) * 100))\n",
    "print(\"VST3 Precision: {:0.2f}%\".format(mean(vst3_precision) * 100))\n",
    "print(\"ST3 Precision: {:0.2f}%\".format(mean(st3_precision) * 100))\n",
    "print(\"MT3 Precision: {:0.2f}%\".format(mean(mt3_precision) * 100))\n",
    "print(\"WT3/4 Precision: {:0.2f}%\".format(mean(wt3_precision) * 100))\n",
    "print(\"False Precision: {:0.2f}%\".format(mean(t0_precision) * 100))"
   ]
  },
  {
   "cell_type": "code",
   "execution_count": 53,
   "id": "37a1223c",
   "metadata": {},
   "outputs": [
    {
     "name": "stdout",
     "output_type": "stream",
     "text": [
      "1\n",
      "Type 1 F1 Score: 91.24%\n",
      "VST3 F1 Score: 84.66%\n",
      "ST3 F1 Score: 89.35%\n",
      "MT3 F1 Score: 88.41%\n",
      "WT3/4 F1 Score: 89.65%\n",
      "False F1 Score: 86.88%\n"
     ]
    }
   ],
   "source": [
    "# F1 Score by Class\n",
    "print(len(mt3_f1score))\n",
    "print(\"Type 1 F1 Score: {:0.2f}%\".format(mean(t1_f1score) * 100))\n",
    "print(\"VST3 F1 Score: {:0.2f}%\".format(mean(vst3_f1score) * 100))\n",
    "print(\"ST3 F1 Score: {:0.2f}%\".format(mean(st3_f1score) * 100))\n",
    "print(\"MT3 F1 Score: {:0.2f}%\".format(mean(mt3_f1score) * 100))\n",
    "print(\"WT3/4 F1 Score: {:0.2f}%\".format(mean(wt3_f1score) * 100))\n",
    "print(\"False F1 Score: {:0.2f}%\".format(mean(t0_f1score) * 100))"
   ]
  },
  {
   "cell_type": "code",
   "execution_count": 54,
   "id": "097ecab4",
   "metadata": {},
   "outputs": [
    {
     "data": {
      "image/png": "[encoded data removed]",
      "text/plain": [
       "<Figure size 640x480 with 1 Axes>"
      ]
     },
     "metadata": {},
     "output_type": "display_data"
    }
   ],
   "source": [
    "import matplotlib.pyplot as plt\n",
    "\n",
    "# summarize history for accuracy\n",
    "plt.plot(historyObject.history['accuracy'])\n",
    "# plt.plot(historyObject.history['val_acc'])\n",
    "plt.title('Model Accuracy')\n",
    "plt.ylabel('Accuracy')\n",
    "plt.xlabel('Epoch')\n",
    "plt.legend(['train', 'test'], loc='upper left')\n",
    "plt.show()"
   ]
  },
  {
   "cell_type": "code",
   "execution_count": 55,
   "id": "a0d6d927",
   "metadata": {},
   "outputs": [
    {
     "data": {
      "image/png": "[encoded data removed]",
      "text/plain": [
       "<Figure size 640x480 with 1 Axes>"
      ]
     },
     "metadata": {},
     "output_type": "display_data"
    }
   ],
   "source": [
    "# summarize history for loss\n",
    "plt.plot(historyObject.history['loss'])\n",
    "# plt.plot(historyObject.history['val_loss'])\n",
    "plt.title('Model Loss')\n",
    "plt.ylabel('Loss')\n",
    "plt.xlabel('Epoch')\n",
    "plt.legend(['train', 'test'], loc='upper left')\n",
    "plt.show()"
   ]
  },
  {
   "cell_type": "markdown",
   "id": "7c65217f",
   "metadata": {},
   "source": [
    "# # Train-Test Method Ends!"
   ]
  },
  {
   "cell_type": "code",
   "execution_count": null,
   "id": "b07b32a4",
   "metadata": {},
   "outputs": [],
   "source": []
  }
 ],
 "metadata": {
  "kernelspec": {
   "display_name": "Python 3 (ipykernel)",
   "language": "python",
   "name": "python3"
  },
  "language_info": {
   "codemirror_mode": {
    "name": "ipython",
    "version": 3
   },
   "file_extension": ".py",
   "mimetype": "text/x-python",
   "name": "python",
   "nbconvert_exporter": "python",
   "pygments_lexer": "ipython3",
   "version": "3.10.13"
  }
 },
 "nbformat": 4,
 "nbformat_minor": 5
}
