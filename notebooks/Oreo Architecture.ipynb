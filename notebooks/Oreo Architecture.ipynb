{
 "cells": [
  {
   "cell_type": "markdown",
   "id": "ea99aa42",
   "metadata": {},
   "source": [
    "#### Siamese Architecture Specified in Oreo Paper\n",
    "https://towardsdatascience.com/siamese-networks-line-by-line-explanation-for-beginners-55b8be1d2fc6\n",
    "\n",
    "research paper: "
   ]
  },
  {
   "cell_type": "code",
   "execution_count": 1,
   "id": "ad2ba9f1",
   "metadata": {},
   "outputs": [],
   "source": [
    "import tensorflow as tf\n",
    "import numpy as np\n",
    "import random\n",
    "\n",
    "# Set seeds\n",
    "np.random.seed(42)\n",
    "random.seed(42)\n",
    "tf.random.set_seed(42)"
   ]
  },
  {
   "cell_type": "code",
   "execution_count": 2,
   "id": "7bf2fd5a",
   "metadata": {},
   "outputs": [],
   "source": [
    "import pandas as pd\n",
    "\n",
    "# load the dataset\n",
    "dataset = pd.read_csv('./multiclass-4190-linear-input.csv')"
   ]
  },
  {
   "cell_type": "code",
   "execution_count": 3,
   "id": "ea3fc5d6",
   "metadata": {},
   "outputs": [
    {
     "name": "stdout",
     "output_type": "stream",
     "text": [
      "       linesCount  assignmentsCount  selectionStatementsCount  \\\n",
      "0               0                 0                         0   \n",
      "1               0                 0                         0   \n",
      "2               0                 0                         0   \n",
      "3               0                 0                         0   \n",
      "4               0                 0                         0   \n",
      "...           ...               ...                       ...   \n",
      "25135          21                 2                         0   \n",
      "25136           9                 1                         0   \n",
      "25137           4                 2                         0   \n",
      "25138           5                 1                         1   \n",
      "25139          36                 1                         1   \n",
      "\n",
      "       iterationStatementsCount  synchronizedStatementsCount  \\\n",
      "0                             0                            0   \n",
      "1                             0                            0   \n",
      "2                             0                            0   \n",
      "3                             0                            0   \n",
      "4                             0                            0   \n",
      "...                         ...                          ...   \n",
      "25135                         1                            0   \n",
      "25136                         1                            0   \n",
      "25137                         1                            0   \n",
      "25138                         1                            0   \n",
      "25139                         1                            0   \n",
      "\n",
      "       returnStatementsCount  switchCaseStatementsCount  tryStatementsCount  \\\n",
      "0                          0                          0                   0   \n",
      "1                          0                          0                   0   \n",
      "2                          0                          0                   0   \n",
      "3                          0                          0                   0   \n",
      "4                          0                          0                   0   \n",
      "...                      ...                        ...                 ...   \n",
      "25135                      0                          0                   1   \n",
      "25136                      1                          0                   1   \n",
      "25137                      1                          0                   1   \n",
      "25138                      0                          0                   2   \n",
      "25139                      1                          8                   2   \n",
      "\n",
      "       singleVariableDeclarationCount  variableDeclarationCount  ...  \\\n",
      "0                                   0                         0  ...   \n",
      "1                                   0                         0  ...   \n",
      "2                                   0                         0  ...   \n",
      "3                                   0                         0  ...   \n",
      "4                                   0                         0  ...   \n",
      "...                               ...                       ...  ...   \n",
      "25135                               3                        11  ...   \n",
      "25136                               3                         2  ...   \n",
      "25137                               1                         4  ...   \n",
      "25138                               2                         1  ...   \n",
      "25139                               2                         3  ...   \n",
      "\n",
      "       boxedTypesCount  arrayCreationLevelsCount  polyExprsCount  \\\n",
      "0                    0                         0               0   \n",
      "1                    0                         0               0   \n",
      "2                    0                         0               0   \n",
      "3                    0                         0               0   \n",
      "4                    0                         0               0   \n",
      "...                ...                       ...             ...   \n",
      "25135                0                         1               0   \n",
      "25136                0                         0               0   \n",
      "25137                0                         0               0   \n",
      "25138                0                         0               0   \n",
      "25139                0                         0               0   \n",
      "\n",
      "       standaloneExprsCount  elidedTypeArgumentsCount  \\\n",
      "0                         0                         0   \n",
      "1                         0                         0   \n",
      "2                         0                         0   \n",
      "3                         0                         0   \n",
      "4                         0                         0   \n",
      "...                     ...                       ...   \n",
      "25135                    55                        55   \n",
      "25136                    27                        27   \n",
      "25137                    17                        17   \n",
      "25138                     7                         7   \n",
      "25139                    82                        82   \n",
      "\n",
      "       qualifiedExprNamesCount  simpleExprNamesCount  primaryExprsCount  \\\n",
      "0                            0                     0                  0   \n",
      "1                            0                     0                  0   \n",
      "2                            0                     0                  0   \n",
      "3                            0                     0                  0   \n",
      "4                            0                     0                  0   \n",
      "...                        ...                   ...                ...   \n",
      "25135                       18                    22                 28   \n",
      "25136                        5                    10                 20   \n",
      "25137                        4                     5                  5   \n",
      "25138                        3                     1                  1   \n",
      "25139                       14                    32                 47   \n",
      "\n",
      "       literalExprsCount  cloneType  \n",
      "0                      0         t1  \n",
      "1                      0         t1  \n",
      "2                      0         t1  \n",
      "3                      0         t1  \n",
      "4                      0         t1  \n",
      "...                  ...        ...  \n",
      "25135                  7         t0  \n",
      "25136                 11         t0  \n",
      "25137                  0         t0  \n",
      "25138                  1         t0  \n",
      "25139                  9         t0  \n",
      "\n",
      "[25140 rows x 49 columns]\n"
     ]
    }
   ],
   "source": [
    "print(dataset)"
   ]
  },
  {
   "cell_type": "code",
   "execution_count": 4,
   "id": "ad271cce",
   "metadata": {},
   "outputs": [
    {
     "name": "stdout",
     "output_type": "stream",
     "text": [
      "[[ 0  0  0 ...  0  0  0]\n",
      " [ 0  0  0 ...  0  0  0]\n",
      " [ 0  0  0 ...  0  0  0]\n",
      " ...\n",
      " [ 4  2  0 ...  5  5  0]\n",
      " [ 5  1  1 ...  1  1  1]\n",
      " [36  1  1 ... 32 47  9]]\n",
      "['t1' 't1' 't1' ... 't0' 't0' 't0']\n",
      "<class 'numpy.ndarray'>\n",
      "<class 'numpy.ndarray'>\n",
      "(25140, 48)\n",
      "(25140,)\n",
      "2\n",
      "1\n"
     ]
    }
   ],
   "source": [
    "# split dataset into X and Y\n",
    "# columns are 0-based index\n",
    "\n",
    "# x = dataset.iloc[:, 0:28].values # 0:28 means 0th-indexed column to 27th-indexed column - wildcardTypesCount\n",
    "# y = dataset.iloc[:, -1].values # -1 refers to the last column - cloneType\n",
    "\n",
    "x = dataset.iloc[:, 0:-1].values\n",
    "y = dataset.iloc[:, -1].values # -1 refers to the last column - cloneType\n",
    "\n",
    "print(x)\n",
    "print(y)\n",
    "\n",
    "print(type(x))\n",
    "print(type(y))\n",
    "\n",
    "print(x.shape) # (25140, 48) = 25140 number of vectors in it and 48 number of scalars in each vector.\n",
    "print(y.shape) # (25140,) = 25140 number of scalers. Vector. So one-dimensional data.\n",
    "\n",
    "print(x.ndim)\n",
    "print(y.ndim)"
   ]
  },
  {
   "cell_type": "code",
   "execution_count": 5,
   "id": "2c63e3eb",
   "metadata": {},
   "outputs": [
    {
     "name": "stdout",
     "output_type": "stream",
     "text": [
      "[[1 0 0 0 0 0]\n",
      " [1 0 0 0 0 0]\n",
      " [1 0 0 0 0 0]\n",
      " ...\n",
      " [0 0 0 0 0 1]\n",
      " [0 0 0 0 0 1]\n",
      " [0 0 0 0 0 1]]\n",
      "(25140, 6)\n",
      "2\n"
     ]
    }
   ],
   "source": [
    "from sklearn.preprocessing import OneHotEncoder, LabelBinarizer, label_binarize, LabelEncoder\n",
    "import numpy as np\n",
    "\n",
    "# define One-Hot Encoding\n",
    "# encoder = OneHotEncoder(sparse = False)\n",
    "# transform data\n",
    "# y = encoder.fit_transform(y.reshape(-1,1))\n",
    "\n",
    "# lb = LabelBinarizer()\n",
    "# lb.fit(y) # target classes are arranged in alphabetically and not in our wish. So, for a class occurance 1 will be added, others will be 0.\n",
    "# print(lb.classes_) # ['mt3' 'st3' 't0' 't1' 'vst3' 'wt3']\n",
    "# y = lb.transform(y) # according to classes_, 1 will be added. Example, [0 0 0 1 0 0] or 3 represents 't1' class.\n",
    "# print(y)\n",
    "\n",
    "# This function makes it possible to compute this transformation for a fixed set of class labels known ahead of time.\n",
    "# label_binarize function preserves class order according to our wish!\n",
    "# https://scikit-learn.org/stable/modules/generated/sklearn.preprocessing.label_binarize.html#sklearn.preprocessing.label_binarize\n",
    "y = label_binarize(y, classes=['t1', 'vst3', 'st3', 'mt3', 'wt3', 't0']) # Example, [0 0 0 1 0 0] or 3 represents 'mt3' class.\n",
    "print(y)\n",
    "print(y.shape)\n",
    "print(y.ndim)\n",
    "\n",
    "# define LabelEncoder\n",
    "# le = LabelEncoder()\n",
    "# le.fit(y)\n",
    "# print(list(le.classes_))\n",
    "# y = le.transform(y)\n",
    "# print(y)"
   ]
  },
  {
   "cell_type": "code",
   "execution_count": 6,
   "id": "04a8d42f",
   "metadata": {},
   "outputs": [],
   "source": [
    "from tensorflow import keras\n",
    "import time\n",
    "from datetime import timedelta"
   ]
  },
  {
   "cell_type": "markdown",
   "id": "786188fa",
   "metadata": {},
   "source": [
    "# # Stratified K-Fold Begins!"
   ]
  },
  {
   "cell_type": "code",
   "execution_count": null,
   "id": "7440e303",
   "metadata": {},
   "outputs": [],
   "source": [
    "t1_recall = []\n",
    "vst3_recall = []\n",
    "st3_recall = []\n",
    "mt3_recall = []\n",
    "wt3_recall = []\n",
    "t0_recall = []\n",
    "\n",
    "def appendRecallForEachClass(arr):\n",
    "    t1_recall.append(arr[0])\n",
    "    vst3_recall.append(arr[1])\n",
    "    st3_recall.append(arr[2])\n",
    "    mt3_recall.append(arr[3])\n",
    "    wt3_recall.append(arr[4])\n",
    "    t0_recall.append(arr[5])\n",
    "    # printRecallForEachClass(arr)\n",
    "\n",
    "def printRecallForEachClass(arr):\n",
    "    print(arr)\n",
    "    print(t1_recall)\n",
    "    print(vst3_recall)\n",
    "    print(st3_recall)\n",
    "    print(mt3_recall)\n",
    "    print(wt3_recall)\n",
    "    print(t0_recall)"
   ]
  },
  {
   "cell_type": "code",
   "execution_count": null,
   "id": "d2a8771e",
   "metadata": {},
   "outputs": [],
   "source": [
    "t1_precision = []\n",
    "vst3_precision = []\n",
    "st3_precision = []\n",
    "mt3_precision = []\n",
    "wt3_precision = []\n",
    "t0_precision = []\n",
    "\n",
    "def appendPrecisionForEachClass(arr):\n",
    "    t1_precision.append(arr[0])\n",
    "    vst3_precision.append(arr[1])\n",
    "    st3_precision.append(arr[2])\n",
    "    mt3_precision.append(arr[3])\n",
    "    wt3_precision.append(arr[4])\n",
    "    t0_precision.append(arr[5])\n",
    "    # printPrecisionForEachClass(arr)\n",
    "\n",
    "def printPrecisionForEachClass(arr):\n",
    "    print(arr)\n",
    "    print(t1_precision)\n",
    "    print(vst3_precision)\n",
    "    print(st3_precision)\n",
    "    print(mt3_precision)\n",
    "    print(wt3_precision)\n",
    "    print(t0_precision)"
   ]
  },
  {
   "cell_type": "code",
   "execution_count": null,
   "id": "7902211a",
   "metadata": {},
   "outputs": [],
   "source": [
    "t1_f1score = []\n",
    "vst3_f1score = []\n",
    "st3_f1score = []\n",
    "mt3_f1score = []\n",
    "wt3_f1score = []\n",
    "t0_f1score = []\n",
    "\n",
    "def appendF1ScoreForEachClass(arr):\n",
    "    t1_f1score.append(arr[0])\n",
    "    vst3_f1score.append(arr[1])\n",
    "    st3_f1score.append(arr[2])\n",
    "    mt3_f1score.append(arr[3])\n",
    "    wt3_f1score.append(arr[4])\n",
    "    t0_f1score.append(arr[5])\n",
    "    # printF1ScoreForEachClass(arr)\n",
    "\n",
    "def printF1ScoreForEachClass(arr):\n",
    "    print(arr)\n",
    "    print(t1_f1score)\n",
    "    print(vst3_f1score)\n",
    "    print(st3_f1score)\n",
    "    print(mt3_f1score)\n",
    "    print(wt3_f1score)\n",
    "    print(t0_f1score)"
   ]
  },
  {
   "cell_type": "code",
   "execution_count": null,
   "id": "9c3fc032",
   "metadata": {},
   "outputs": [],
   "source": [
    "# function that creates and returns the subnetwork\n",
    "def create_subnetwork(input_shape, initializer):\n",
    "    input = keras.Input(shape = input_shape, name = 'subnetwork_input')\n",
    "    x = keras.layers.Dense(units = 200, kernel_initializer = initializer, activation = 'relu')(input)\n",
    "    x = keras.layers.Dropout(0.2)(x)\n",
    "    x = keras.layers.Dense(units = 200, kernel_initializer = initializer, activation = 'relu')(x)\n",
    "    x = keras.layers.Dense(units = 200, kernel_initializer = initializer, activation = 'relu')(x)\n",
    "    x = keras.layers.Dropout(0.2)(x)\n",
    "    x = keras.layers.Dense(units = 200, kernel_initializer = initializer, activation = 'relu')(x)\n",
    "    return keras.Model(name = 'subnetwork', inputs = input, outputs = x)"
   ]
  },
  {
   "cell_type": "code",
   "execution_count": null,
   "id": "64076aa9",
   "metadata": {},
   "outputs": [],
   "source": [
    "# function that creates and returns the comparatornetwork\n",
    "def create_comparatornetwork(input_vect_dim, initializer):\n",
    "    input = keras.Input(shape = (input_vect_dim,), name = 'comparatornetwork_input')\n",
    "    x = keras.layers.Dense(units = 200, kernel_initializer = initializer, activation = 'relu')(input)\n",
    "    x = keras.layers.Dropout(0.2)(x)\n",
    "    x = keras.layers.Dense(units = 100, kernel_initializer = initializer, activation = 'relu')(x)\n",
    "    x = keras.layers.Dense(units = 50, kernel_initializer = initializer, activation = 'relu')(x)\n",
    "    x = keras.layers.Dropout(0.2)(x)\n",
    "    x = keras.layers.Dense(units = 25, kernel_initializer = initializer, activation = 'relu')(x)\n",
    "    return keras.Model(name = 'comparatornetwork', inputs = input, outputs = x)"
   ]
  },
  {
   "cell_type": "code",
   "execution_count": null,
   "id": "634fb748",
   "metadata": {},
   "outputs": [],
   "source": [
    "# in Input object, shape = (24,) indicates that the expected input will be batches of 24-dimensional vectors.\n",
    "input_shape = (48,)\n",
    "print(input_shape)"
   ]
  },
  {
   "cell_type": "code",
   "execution_count": null,
   "id": "1983c2a0",
   "metadata": {},
   "outputs": [],
   "source": [
    "# defining 'HeNormal' initializer\n",
    "initializer = tensorflow.keras.initializers.HeNormal()\n",
    "print(initializer)"
   ]
  },
  {
   "cell_type": "code",
   "execution_count": null,
   "id": "bb271596",
   "metadata": {},
   "outputs": [],
   "source": [
    "from sklearn.model_selection import StratifiedKFold\n",
    "from sklearn.metrics import accuracy_score, f1_score, recall_score, precision_score, classification_report\n",
    "\n",
    "skf = StratifiedKFold(n_splits=10, shuffle=True, random_state=42)\n",
    "\n",
    "bSize = 32\n",
    "eSize = 500\n",
    "\n",
    "accuracy = []\n",
    "recall_macro = [] # macro and weighted results will be the same as we have balance among labels!\n",
    "recall_micro = []\n",
    "recall_weighted = []\n",
    "precision_macro = []\n",
    "precision_micro = []\n",
    "precision_weighted = []\n",
    "f1_macro = []\n",
    "f1_micro = []\n",
    "f1_weighted = []\n",
    "\n",
    "fold = 0\n",
    "\n",
    "# start timer\n",
    "start_time = time.time()\n",
    "\n",
    "# For further references - https://www.youtube.com/watch?v=maiQf8ray_s&t=806s\n",
    "# to maintain a balance between x and y, we need to pass in y - 'cloneType' as the second argument\n",
    "# for y, we need to pass \"original class\", not the dummy variables.\n",
    "for train, test in skf.split(x, dataset['cloneType']):\n",
    "    fold = fold + 1\n",
    "    print(f\"Fold: {fold}\")\n",
    "    print(f\"Batch Size: {bSize}\")\n",
    "    print(f\"Epochs: {eSize}\")\n",
    "    print(f\"Train: {train}\")\n",
    "    print(f\"Test: {test}\")\n",
    "\n",
    "    x_train = x[train]\n",
    "    y_train = y[train]\n",
    "    \n",
    "    x_test = x[test]\n",
    "    y_test = y[test]\n",
    "    \n",
    "    print(f\"x_train size: {len(x_train)}\")\n",
    "    print(f\"y_train size: {len(y_train)}\")\n",
    "    print(f\"x_test size: {len(x_test)}\")\n",
    "    print(f\"y_test size: {len(y_test)}\")\n",
    "    \n",
    "    # Building Siamese Network With Two Identical Subnetworks\n",
    "    left_input = keras.Input(shape = input_shape, name = 'left_input')\n",
    "    right_input = keras.Input(shape = input_shape, name = 'right_input')\n",
    "\n",
    "    subnetwork = create_subnetwork(input_shape, initializer)\n",
    "\n",
    "    encoded_left = subnetwork(left_input) # chain layers\n",
    "    encoded_right = subnetwork(right_input)\n",
    "\n",
    "    # concatenate outputs of the two subnetworks\n",
    "    concatted = keras.layers.Concatenate()([encoded_left, encoded_right])\n",
    "    print(concatted.shape)\n",
    "\n",
    "    comparatornetwork = create_comparatornetwork(concatted.shape[1], initializer)\n",
    "\n",
    "    comparator = comparatornetwork(concatted)\n",
    "\n",
    "    classificationUnit = keras.layers.Dense(name = 'classificationUnit', units = y.shape[1], kernel_initializer = initializer, activation = 'softmax')(comparator)\n",
    "\n",
    "    siamese_net = keras.Model(name = 'siameseNetwork', inputs = [left_input, right_input], outputs = classificationUnit)\n",
    "\n",
    "    siamese_net.compile(loss = 'categorical_crossentropy', optimizer = 'Adam', metrics = ['accuracy'])\n",
    "\n",
    "    siamese_net.summary()\n",
    "    \n",
    "    print(f\"x_train shape: {x_train.shape}\")\n",
    "    print(f\"y_train shape: {y_train.shape}\")\n",
    "\n",
    "    # https://www.earthdatascience.org/courses/intro-to-earth-data-science/scientific-data-structures-python/numpy-arrays/indexing-slicing-numpy-arrays/\n",
    "\n",
    "    x_train_left_input = x_train[:, 0:48] # select all rows and columns from 0th indexed to 47th indexed columns\n",
    "    x_train_right_input = x_train[:, 48:96]\n",
    "\n",
    "    print(f\"x_train_left_input shape: {x_train_left_input.shape}\")\n",
    "    print(f\"x_train_right_input shape: {x_train_right_input.shape}\")\n",
    "    \n",
    "    siamese_net.fit(x = [x_train_left_input, x_train_right_input], y = y_train, batch_size = bSize, epochs = eSize)\n",
    "    \n",
    "    print(f\"x_test shape: {x_test.shape}\")\n",
    "    print(f\"y_test shape: {y_test.shape}\")\n",
    "\n",
    "    x_test_left_input = x_test[:, 0:48] # select all rows and columns from 0th indexed to 47th indexed columns\n",
    "    x_test_right_input = x_test[:, 48:96]\n",
    "\n",
    "    print(f\"x_test_left_input shape: {x_test_left_input.shape}\")\n",
    "    print(f\"x_test_right_input shape: {x_test_right_input.shape}\")\n",
    "    \n",
    "    y_pred = siamese_net.predict(x = [x_test_left_input, x_test_right_input])\n",
    "    \n",
    "    y_pred = np.argmax(y_pred, axis = -1)\n",
    "    print(f\"y_pred: {y_pred}\")\n",
    "\n",
    "    y_test = np.argmax(y_test, axis = -1)\n",
    "    print(f\"y_test: {y_test}\")\n",
    "\n",
    "    # accuracy\n",
    "    acc = accuracy_score(y_test, y_pred)\n",
    "    print(f\"Fold {fold}'s Accuracy Score {acc}\")\n",
    "    accuracy.append(acc)\n",
    "\n",
    "    # recall\n",
    "\n",
    "    # recall macro average - This parameter is required for multiclass/multilabel targets.\n",
    "    recallmacro = recall_score(y_test, y_pred, average='macro')\n",
    "    print(f\"Fold {fold}'s Recall Macro Score {recallmacro}\")\n",
    "    recall_macro.append(recallmacro)\n",
    "\n",
    "    # recall micro average - This parameter is required for multiclass/multilabel targets.\n",
    "    recallmicro = recall_score(y_test, y_pred, average='micro')\n",
    "    print(f\"Fold {fold}'s Recall Micro Score {recallmicro}\")\n",
    "    recall_micro.append(recallmicro)\n",
    "\n",
    "    # recall weighted average - This parameter is required for multiclass/multilabel targets.\n",
    "    recallweighted = recall_score(y_test, y_pred, average='weighted')\n",
    "    print(f\"Fold {fold}'s Recall Weighted Score {recallweighted}\")\n",
    "    recall_weighted.append(recallweighted)\n",
    "\n",
    "    # precision\n",
    "\n",
    "    # precision macro average - This parameter is required for multiclass/multilabel targets.\n",
    "    precisionmacro = precision_score(y_test, y_pred, average='macro')\n",
    "    print(f\"Fold {fold}'s Precision Macro Score {precisionmacro}\")\n",
    "    precision_macro.append(precisionmacro)\n",
    "\n",
    "    # precision micro average - This parameter is required for multiclass/multilabel targets.\n",
    "    precisionmicro = precision_score(y_test, y_pred, average='micro')\n",
    "    print(f\"Fold {fold}'s Precision Micro Score {precisionmicro}\")\n",
    "    precision_micro.append(precisionmicro)\n",
    "\n",
    "    # precision weighted average - This parameter is required for multiclass/multilabel targets.\n",
    "    precisionweighted = precision_score(y_test, y_pred, average='weighted')\n",
    "    print(f\"Fold {fold}'s Precision Weighted Score {precisionweighted}\")\n",
    "    precision_weighted.append(precisionweighted)\n",
    "\n",
    "    # f1 score\n",
    "\n",
    "    # f1 macro average - This parameter is required for multiclass/multilabel targets.\n",
    "    f1macro = f1_score(y_test, y_pred, average='macro')\n",
    "    print(f\"Fold {fold}'s F1 Macro Score {f1macro}\")\n",
    "    f1_macro.append(f1macro)\n",
    "\n",
    "    # f1 micro average - This parameter is required for multiclass/multilabel targets.\n",
    "    f1micro = f1_score(y_test, y_pred, average='micro')\n",
    "    print(f\"Fold {fold}'s F1 Micro Score {f1micro}\")\n",
    "    f1_micro.append(f1micro)\n",
    "\n",
    "    # f1 weighted average - This parameter is required for multiclass/multilabel targets.\n",
    "    f1weighted = f1_score(y_test, y_pred, average='weighted')\n",
    "    print(f\"Fold {fold}'s F1 Weighted Score {f1weighted}\")\n",
    "    f1_weighted.append(f1weighted)\n",
    "\n",
    "    # collect details class-vice\n",
    "    appendRecallForEachClass(recall_score(y_test, y_pred, average=None))\n",
    "    appendPrecisionForEachClass(precision_score(y_test, y_pred, average=None))\n",
    "    appendF1ScoreForEachClass(f1_score(y_test, y_pred, average=None))\n",
    "    \n",
    "# Stop timer clock\n",
    "elapsed = time.time() - start_time"
   ]
  },
  {
   "cell_type": "code",
   "execution_count": null,
   "id": "0e46056f",
   "metadata": {},
   "outputs": [],
   "source": [
    "print(elapsed)\n",
    "\n",
    "# Calculate K-fold execution duration\n",
    "print(\"K-fold execution duration: \" + str(timedelta(seconds=elapsed)))"
   ]
  },
  {
   "cell_type": "code",
   "execution_count": null,
   "id": "f2c08946",
   "metadata": {},
   "outputs": [],
   "source": [
    "# Overall K-fold's accuracy\n",
    "from statistics import mean\n",
    "\n",
    "print(f\"Testing accuracy array: {accuracy}\")\n",
    "print(\"Final accuracy score is: {:0.2f}%\".format(mean(accuracy) * 100))"
   ]
  },
  {
   "cell_type": "code",
   "execution_count": null,
   "id": "76453fae",
   "metadata": {},
   "outputs": [],
   "source": [
    "# Precision Macro\n",
    "print(f\"Testing Precision Macro array: {precision_macro}\")\n",
    "print(\"Final Precision Macro score is: {:0.2f}%\".format(mean(precision_macro) * 100))\n",
    "\n",
    "# Precision Micro\n",
    "print(f\"Testing Precision Micro array: {precision_micro}\")\n",
    "print(\"Final Precision Micro score is: {:0.2f}%\".format(mean(precision_micro) * 100))\n",
    "\n",
    "# Precision Weighted\n",
    "print(f\"Testing Precision Weighted array: {precision_weighted}\")\n",
    "print(\"Final Precision Weighted score is: {:0.2f}%\".format(mean(precision_weighted) * 100))"
   ]
  },
  {
   "cell_type": "code",
   "execution_count": null,
   "id": "35e8d1d2",
   "metadata": {},
   "outputs": [],
   "source": [
    "# Recall Macro\n",
    "print(f\"Testing Recall Macro array: {recall_macro}\")\n",
    "print(\"Final Recall Macro score is: {:0.2f}%\".format(mean(recall_macro) * 100))\n",
    "\n",
    "# Recall Micro\n",
    "print(f\"Testing Recall Micro array: {recall_micro}\")\n",
    "print(\"Final Recall Micro score is: {:0.2f}%\".format(mean(recall_micro) * 100))\n",
    "\n",
    "# Recall Weighted\n",
    "print(f\"Testing Recall Weighted array: {recall_weighted}\")\n",
    "print(\"Final Recall Weighted score is: {:0.2f}%\".format(mean(recall_weighted) * 100))"
   ]
  },
  {
   "cell_type": "code",
   "execution_count": null,
   "id": "ad189af8",
   "metadata": {},
   "outputs": [],
   "source": [
    "# F1 Macro\n",
    "print(f\"Testing F1 Macro array: {f1_macro}\")\n",
    "print(\"Final F1 Macro score is: {:0.2f}%\".format(mean(f1_macro) * 100))\n",
    "\n",
    "# F1 Micro\n",
    "print(f\"Testing F1 Micro array: {f1_micro}\")\n",
    "print(\"Final F1 Micro score is: {:0.2f}%\".format(mean(f1_micro) * 100))\n",
    "\n",
    "# F1 Weighted\n",
    "print(f\"Testing F1 Weighted array: {f1_weighted}\")\n",
    "print(\"Final F1 Weighted score is: {:0.2f}%\".format(mean(f1_weighted) * 100))"
   ]
  },
  {
   "cell_type": "code",
   "execution_count": null,
   "id": "a4e80d22",
   "metadata": {},
   "outputs": [],
   "source": [
    "# Recall by Class\n",
    "print(len(t1_recall))\n",
    "print(\"Type 1 Recall: {:0.2f}%\".format(mean(t1_recall) * 100))\n",
    "print(\"VST3 Recall: {:0.2f}%\".format(mean(vst3_recall) * 100))\n",
    "print(\"ST3 Recall: {:0.2f}%\".format(mean(st3_recall) * 100))\n",
    "print(\"MT3 Recall: {:0.2f}%\".format(mean(mt3_recall) * 100))\n",
    "print(\"WT3/4 Recall: {:0.2f}%\".format(mean(wt3_recall) * 100))\n",
    "print(\"False Recall: {:0.2f}%\".format(mean(t0_recall) * 100))"
   ]
  },
  {
   "cell_type": "code",
   "execution_count": null,
   "id": "b2bf27cf",
   "metadata": {},
   "outputs": [],
   "source": [
    "# Precision by Class\n",
    "print(len(wt3_precision))\n",
    "print(\"Type 1 Precision: {:0.2f}%\".format(mean(t1_precision) * 100))\n",
    "print(\"VST3 Precision: {:0.2f}%\".format(mean(vst3_precision) * 100))\n",
    "print(\"ST3 Precision: {:0.2f}%\".format(mean(st3_precision) * 100))\n",
    "print(\"MT3 Precision: {:0.2f}%\".format(mean(mt3_precision) * 100))\n",
    "print(\"WT3/4 Precision: {:0.2f}%\".format(mean(wt3_precision) * 100))\n",
    "print(\"False Precision: {:0.2f}%\".format(mean(t0_precision) * 100))"
   ]
  },
  {
   "cell_type": "code",
   "execution_count": null,
   "id": "bcafec46",
   "metadata": {},
   "outputs": [],
   "source": [
    "# F1 Score by Class\n",
    "print(len(mt3_f1score))\n",
    "print(\"Type 1 F1 Score: {:0.2f}%\".format(mean(t1_f1score) * 100))\n",
    "print(\"VST3 F1 Score: {:0.2f}%\".format(mean(vst3_f1score) * 100))\n",
    "print(\"ST3 F1 Score: {:0.2f}%\".format(mean(st3_f1score) * 100))\n",
    "print(\"MT3 F1 Score: {:0.2f}%\".format(mean(mt3_f1score) * 100))\n",
    "print(\"WT3/4 F1 Score: {:0.2f}%\".format(mean(wt3_f1score) * 100))\n",
    "print(\"False F1 Score: {:0.2f}%\".format(mean(t0_f1score) * 100))"
   ]
  },
  {
   "cell_type": "markdown",
   "id": "2c01a26c",
   "metadata": {},
   "source": [
    "# # Stratified K-fold Ends!"
   ]
  },
  {
   "cell_type": "markdown",
   "id": "7afdf776",
   "metadata": {},
   "source": [
    "# # Train-Test Split Method Begins!"
   ]
  },
  {
   "cell_type": "code",
   "execution_count": 7,
   "id": "017e64ab",
   "metadata": {},
   "outputs": [
    {
     "name": "stdout",
     "output_type": "stream",
     "text": [
      "(17598, 48)\n",
      "(17598, 6)\n"
     ]
    }
   ],
   "source": [
    "# Split the x and y dataset into the Training set and Test set while performing the data shuffling\n",
    "# https://www.kaggle.com/questions-and-answers/189700 - don't use train-test split, we'll use CV\n",
    "from sklearn.model_selection import train_test_split\n",
    "# x_train, x_test, y_train, y_test = train_test_split(x, y, test_size = 0.3, random_state = 42)\n",
    "x_train, x_test, y_train, y_test = train_test_split(x, y, test_size = 0.3)\n",
    "\n",
    "print(x_train.shape)\n",
    "print(y_train.shape)"
   ]
  },
  {
   "cell_type": "code",
   "execution_count": 8,
   "id": "de4d0321",
   "metadata": {},
   "outputs": [
    {
     "name": "stdout",
     "output_type": "stream",
     "text": [
      "(24,)\n"
     ]
    }
   ],
   "source": [
    "# in Input object, shape = (24,) indicates that the expected input will be batches of 24-dimensional vectors.\n",
    "input_shape = (48,)\n",
    "print(input_shape)"
   ]
  },
  {
   "cell_type": "code",
   "execution_count": 9,
   "id": "81664445",
   "metadata": {},
   "outputs": [],
   "source": [
    "# function that creates and returns the subnetwork\n",
    "def create_subnetwork(input_shape, initializer):\n",
    "    input = keras.Input(shape = input_shape, name = 'subnetwork_input')\n",
    "    x = keras.layers.Dense(units = 200, kernel_initializer = initializer, activation = 'relu')(input)\n",
    "    x = keras.layers.Dropout(0.2)(x)\n",
    "    x = keras.layers.Dense(units = 200, kernel_initializer = initializer, activation = 'relu')(x)\n",
    "    x = keras.layers.Dense(units = 200, kernel_initializer = initializer, activation = 'relu')(x)\n",
    "    x = keras.layers.Dropout(0.2)(x)\n",
    "    x = keras.layers.Dense(units = 200, kernel_initializer = initializer, activation = 'relu')(x)\n",
    "    return keras.Model(name = 'subnetwork', inputs = input, outputs = x)"
   ]
  },
  {
   "cell_type": "code",
   "execution_count": 10,
   "id": "4eb8b0f5",
   "metadata": {},
   "outputs": [],
   "source": [
    "# function that creates and returns the comparatornetwork\n",
    "def create_comparatornetwork(input_vect_dim, initializer):\n",
    "    input = keras.Input(shape = (input_vect_dim,), name = 'comparatornetwork_input')\n",
    "    x = keras.layers.Dense(units = 200, kernel_initializer = initializer, activation = 'relu')(input)\n",
    "    x = keras.layers.Dropout(0.2)(x)\n",
    "    x = keras.layers.Dense(units = 100, kernel_initializer = initializer, activation = 'relu')(x)\n",
    "    x = keras.layers.Dense(units = 50, kernel_initializer = initializer, activation = 'relu')(x)\n",
    "    x = keras.layers.Dropout(0.2)(x)\n",
    "    x = keras.layers.Dense(units = 25, kernel_initializer = initializer, activation = 'relu')(x)\n",
    "    return keras.Model(name = 'comparatornetwork', inputs = input, outputs = x)"
   ]
  },
  {
   "cell_type": "code",
   "execution_count": 11,
   "id": "c9885dca",
   "metadata": {},
   "outputs": [
    {
     "name": "stdout",
     "output_type": "stream",
     "text": [
      "<keras.initializers.initializers_v2.HeNormal object at 0x000001F4809827F0>\n"
     ]
    }
   ],
   "source": [
    "# defining 'HeNormal' initializer\n",
    "initializer = tensorflow.keras.initializers.HeNormal()\n",
    "print(initializer)"
   ]
  },
  {
   "cell_type": "code",
   "execution_count": 12,
   "id": "526de38f",
   "metadata": {},
   "outputs": [
    {
     "name": "stdout",
     "output_type": "stream",
     "text": [
      "(None, 400)\n",
      "Model: \"OreoNetwork\"\n",
      "__________________________________________________________________________________________________\n",
      " Layer (type)                   Output Shape         Param #     Connected to                     \n",
      "==================================================================================================\n",
      " left_input (InputLayer)        [(None, 24)]         0           []                               \n",
      "                                                                                                  \n",
      " right_input (InputLayer)       [(None, 24)]         0           []                               \n",
      "                                                                                                  \n",
      " subnetwork (Functional)        (None, 200)          125600      ['left_input[0][0]',             \n",
      "                                                                  'right_input[0][0]']            \n",
      "                                                                                                  \n",
      " concatenate (Concatenate)      (None, 400)          0           ['subnetwork[0][0]',             \n",
      "                                                                  'subnetwork[1][0]']             \n",
      "                                                                                                  \n",
      " comparatornetwork (Functional)  (None, 25)          106625      ['concatenate[0][0]']            \n",
      "                                                                                                  \n",
      " classificationUnit (Dense)     (None, 6)            156         ['comparatornetwork[0][0]']      \n",
      "                                                                                                  \n",
      "==================================================================================================\n",
      "Total params: 232,381\n",
      "Trainable params: 232,381\n",
      "Non-trainable params: 0\n",
      "__________________________________________________________________________________________________\n"
     ]
    }
   ],
   "source": [
    "# Building Siamese Network With Two Identical Subnetworks\n",
    "left_input = keras.Input(shape = input_shape, name = 'left_input')\n",
    "right_input = keras.Input(shape = input_shape, name = 'right_input')\n",
    "\n",
    "subnetwork = create_subnetwork(input_shape, initializer)\n",
    "\n",
    "encoded_left = subnetwork(left_input) # chain layers\n",
    "encoded_right = subnetwork(right_input)\n",
    "\n",
    "# concatenate outputs of the two subnetworks\n",
    "concatted = keras.layers.Concatenate()([encoded_left, encoded_right])\n",
    "print(concatted.shape)\n",
    "\n",
    "comparatornetwork = create_comparatornetwork(concatted.shape[1], initializer)\n",
    "\n",
    "comparator = comparatornetwork(concatted)\n",
    "\n",
    "classificationUnit = keras.layers.Dense(name = 'classificationUnit', units = y.shape[1], kernel_initializer = initializer, activation = 'softmax')(comparator)\n",
    "\n",
    "oreo = keras.Model(name = 'OreoNetwork', inputs = [left_input, right_input], outputs = classificationUnit)\n",
    "\n",
    "oreo.compile(loss = 'categorical_crossentropy', optimizer = 'Adam', metrics = ['accuracy'])\n",
    "\n",
    "oreo.summary()"
   ]
  },
  {
   "cell_type": "code",
   "execution_count": 13,
   "id": "8e44df40",
   "metadata": {},
   "outputs": [],
   "source": [
    "comparatornetwork.summary()\n",
    "keras.utils.plot_model(comparatornetwork, show_shapes = True, show_layer_names = True)"
   ]
  },
  {
   "cell_type": "code",
   "execution_count": 14,
   "id": "2a9059dd",
   "metadata": {},
   "outputs": [
    {
     "name": "stdout",
     "output_type": "stream",
     "text": [
      "(17598, 48)\n",
      "(17598, 6)\n",
      "(17598, 24)\n",
      "(17598, 24)\n"
     ]
    }
   ],
   "source": [
    "print(x_train.shape)\n",
    "print(y_train.shape)\n",
    "\n",
    "# https://www.earthdatascience.org/courses/intro-to-earth-data-science/scientific-data-structures-python/numpy-arrays/indexing-slicing-numpy-arrays/\n",
    "\n",
    "x_train_left_input = x_train[:, 0:48] # select all rows and columns from 0th indexed to 47th indexed columns\n",
    "x_train_right_input = x_train[:, 48:96]\n",
    "\n",
    "# x_train_left_input = x_train[:, 0:28] # Existing 28 features\n",
    "# x_train_right_input = x_train[:, 48:76] # Existing 28 features\n",
    "\n",
    "# x_train_left_input = x_train[:, 28:48] # Novel 20 features\n",
    "# x_train_right_input = x_train[:, 76:96] # Novel 20 features\n",
    "\n",
    "print(x_train_left_input.shape)\n",
    "print(x_train_right_input.shape)"
   ]
  },
  {
   "cell_type": "code",
   "execution_count": 15,
   "id": "0af46f78",
   "metadata": {},
   "outputs": [
    {
     "name": "stdout",
     "output_type": "stream",
     "text": [
      "Epoch 1/20\n",
      "550/550 [==============================] - 12s 10ms/step - loss: 2.0115 - accuracy: 0.4572\n",
      "Epoch 2/20\n",
      "550/550 [==============================] - 7s 13ms/step - loss: 0.9694 - accuracy: 0.6071\n",
      "Epoch 3/20\n",
      "550/550 [==============================] - 6s 11ms/step - loss: 0.8048 - accuracy: 0.6632\n",
      "Epoch 4/20\n",
      "550/550 [==============================] - 8s 15ms/step - loss: 0.7339 - accuracy: 0.6889\n",
      "Epoch 5/20\n",
      "550/550 [==============================] - 8s 14ms/step - loss: 0.6932 - accuracy: 0.7139\n",
      "Epoch 6/20\n",
      "550/550 [==============================] - 7s 14ms/step - loss: 0.6566 - accuracy: 0.7322\n",
      "Epoch 7/20\n",
      "550/550 [==============================] - 7s 13ms/step - loss: 0.6381 - accuracy: 0.7358\n",
      "Epoch 8/20\n",
      "550/550 [==============================] - 6s 10ms/step - loss: 0.6084 - accuracy: 0.7502\n",
      "Epoch 9/20\n",
      "550/550 [==============================] - 10s 19ms/step - loss: 0.5917 - accuracy: 0.7613\n",
      "Epoch 10/20\n",
      "550/550 [==============================] - 6s 12ms/step - loss: 0.5780 - accuracy: 0.7676\n",
      "Epoch 11/20\n",
      "550/550 [==============================] - 7s 13ms/step - loss: 0.5556 - accuracy: 0.7762\n",
      "Epoch 12/20\n",
      "550/550 [==============================] - 6s 12ms/step - loss: 0.5450 - accuracy: 0.7830\n",
      "Epoch 13/20\n",
      "550/550 [==============================] - 6s 12ms/step - loss: 0.5270 - accuracy: 0.7900\n",
      "Epoch 14/20\n",
      "550/550 [==============================] - 7s 12ms/step - loss: 0.5259 - accuracy: 0.7962\n",
      "Epoch 15/20\n",
      "550/550 [==============================] - 6s 11ms/step - loss: 0.5084 - accuracy: 0.7973\n",
      "Epoch 16/20\n",
      "550/550 [==============================] - 7s 12ms/step - loss: 0.4807 - accuracy: 0.8094\n",
      "Epoch 17/20\n",
      "550/550 [==============================] - 5s 10ms/step - loss: 0.4783 - accuracy: 0.8109\n",
      "Epoch 18/20\n",
      "550/550 [==============================] - 7s 13ms/step - loss: 0.4552 - accuracy: 0.8236\n",
      "Epoch 19/20\n",
      "550/550 [==============================] - 6s 11ms/step - loss: 0.4338 - accuracy: 0.8318\n",
      "Epoch 20/20\n",
      "550/550 [==============================] - 6s 12ms/step - loss: 0.4240 - accuracy: 0.8361\n"
     ]
    }
   ],
   "source": [
    "import time\n",
    "from datetime import timedelta\n",
    "\n",
    "# start timer\n",
    "start_time = time.time()\n",
    "\n",
    "from keras.callbacks import CSVLogger\n",
    "\n",
    "csv_logger = CSVLogger('oreo_epoch_500_training.log', separator=',', append=False)\n",
    "\n",
    "# Fit the ANN to the Training set\n",
    "historyObject = oreo.fit(x = [x_train_left_input, x_train_right_input], y = y_train, batch_size = 32, epochs = 20, callbacks=[csv_logger])\n",
    "\n",
    "# Stop timer clock\n",
    "elapsed = time.time() - start_time"
   ]
  },
  {
   "cell_type": "code",
   "execution_count": 16,
   "id": "2418f2e8",
   "metadata": {},
   "outputs": [
    {
     "name": "stdout",
     "output_type": "stream",
     "text": [
      "143.92874002456665\n",
      "Training duration: 0:02:23.928740\n"
     ]
    }
   ],
   "source": [
    "print(elapsed)\n",
    "\n",
    "# Calculate K-fold execution duration\n",
    "print(\"Training duration: \" + str(timedelta(seconds=elapsed)))"
   ]
  },
  {
   "cell_type": "code",
   "execution_count": 51,
   "id": "006743d8",
   "metadata": {},
   "outputs": [],
   "source": [
    "import os.path\n",
    "if os.path.isfile('models/oreo_epoch_500.h5') is False:\n",
    "    oreo.save('models/oreo_epoch_500.h5')"
   ]
  },
  {
   "cell_type": "code",
   "execution_count": 17,
   "id": "45ac361a",
   "metadata": {},
   "outputs": [
    {
     "name": "stdout",
     "output_type": "stream",
     "text": [
      "(7542, 48)\n",
      "(7542, 6)\n",
      "(7542, 24)\n",
      "(7542, 24)\n"
     ]
    }
   ],
   "source": [
    "print(x_test.shape)\n",
    "print(y_test.shape)\n",
    "\n",
    "# https://www.earthdatascience.org/courses/intro-to-earth-data-science/scientific-data-structures-python/numpy-arrays/indexing-slicing-numpy-arrays/\n",
    "\n",
    "x_test_left_input = x_test[:, 0:48] # select all rows and columns from 0th indexed to 47th indexed columns\n",
    "x_test_right_input = x_test[:, 48:96]\n",
    "\n",
    "# x_test_left_input = x_test[:, 0:28] # Existing 28 features\n",
    "# x_test_right_input = x_test[:, 48:76] # Existing 28 features\n",
    "\n",
    "# x_test_left_input = x_test[:, 28:48] # Novel 20 features\n",
    "# x_test_right_input = x_test[:, 76:96] # Novel 20 features\n",
    "\n",
    "print(x_test_left_input.shape)\n",
    "print(x_test_right_input.shape)"
   ]
  },
  {
   "cell_type": "code",
   "execution_count": 18,
   "id": "4430ea66",
   "metadata": {},
   "outputs": [
    {
     "name": "stdout",
     "output_type": "stream",
     "text": [
      "236/236 [==============================] - 2s 5ms/step\n"
     ]
    }
   ],
   "source": [
    "# 4. Predict the Test Set Results\n",
    "import numpy as np\n",
    "y_pred = oreo.predict(x = [x_test_left_input, x_test_right_input])"
   ]
  },
  {
   "cell_type": "code",
   "execution_count": 19,
   "id": "cd510f51",
   "metadata": {},
   "outputs": [
    {
     "name": "stdout",
     "output_type": "stream",
     "text": [
      "(7542, 6)\n",
      "[0 2 0 ... 1 2 4]\n",
      "[[1 0 0 0 0 0]\n",
      " [0 0 1 0 0 0]\n",
      " [1 0 0 0 0 0]\n",
      " ...\n",
      " [0 1 0 0 0 0]\n",
      " [0 0 0 1 0 0]\n",
      " [0 0 0 0 1 0]]\n",
      "(7542, 6)\n",
      "[0 2 0 ... 1 3 4]\n",
      "(7542,)\n"
     ]
    }
   ],
   "source": [
    "# 5. Converting y_test, and y_pred from One-Hot encoding to integer encoding.\n",
    "\n",
    "# https://stackoverflow.com/questions/47564495/what-does-numpy-ndarray-shape-do\n",
    "# For a 1D array, the shape would be (n,) where n is the number of elements in your array.\n",
    "# For a 2D array, the shape would be (n,m) where n is the number of rows and m is the number of columns in your array.\n",
    "\n",
    "# Converting y_pred from One-Hot encoding to integer encoding.\n",
    "# y_pred = <class 'numpy.ndarray'>\n",
    "\n",
    "# shape is a tuple that always gives dimensions of the array.\n",
    "print(y_pred.shape) # (7542, 6) means 7542 rows and 6 columns\n",
    "y_pred = np.argmax(y_pred, axis = -1) # (axis = -1) represents the last axis. In this case, 6.\n",
    "print(y_pred)\n",
    "\n",
    "# collect y_test predicted class values\n",
    "# https://stackoverflow.com/questions/47435526/what-is-the-meaning-of-axis-1-in-keras-argmax\n",
    "print(y_test)\n",
    "print(y_test.shape) # (7542, 6) means 7542 rows and 6 columns\n",
    "y_test = np.argmax(y_test, axis = -1) # Returns the indices of the maximum values along an axis. (axis = -1) represents the last axis. In this case, values from 0 to 5 (predicted target classes).\n",
    "print(y_test)\n",
    "print(y_test.shape) # (7542,) means 1D array where 7542 elements available."
   ]
  },
  {
   "cell_type": "code",
   "execution_count": 20,
   "id": "1d60b343",
   "metadata": {},
   "outputs": [
    {
     "name": "stdout",
     "output_type": "stream",
     "text": [
      "              precision    recall  f1-score   support\n",
      "\n",
      "      Type 1       0.84      1.00      0.91      1287\n",
      "        VST3       0.93      0.75      0.83      1265\n",
      "         ST3       0.86      0.85      0.86      1245\n",
      "         MT3       0.80      0.88      0.84      1243\n",
      "       WT3/4       0.75      0.80      0.78      1248\n",
      "       False       0.82      0.68      0.75      1254\n",
      "\n",
      "    accuracy                           0.83      7542\n",
      "   macro avg       0.83      0.83      0.83      7542\n",
      "weighted avg       0.83      0.83      0.83      7542\n",
      "\n"
     ]
    }
   ],
   "source": [
    "# Classification report - https://scikit-learn.org/stable/modules/generated/sklearn.metrics.classification_report.html\n",
    "from sklearn.metrics import accuracy_score, f1_score, recall_score, precision_score, classification_report\n",
    "\n",
    "target_names = ['Type 1', 'VST3', 'ST3', 'MT3', 'WT3/4', 'False']\n",
    "\n",
    "print(classification_report(y_test, y_pred, target_names=target_names))\n",
    "\n",
    "# macro average (averaging the unweighted mean per label)\n",
    "# weighted average (averaging the support-weighted mean per label)\n",
    "# Support is the number of actual occurrences of the class in the specified dataset"
   ]
  },
  {
   "cell_type": "code",
   "execution_count": 21,
   "id": "5b0bc20c",
   "metadata": {},
   "outputs": [
    {
     "name": "stdout",
     "output_type": "stream",
     "text": [
      "Final accuracy score is: 83.03%\n"
     ]
    }
   ],
   "source": [
    "# accuracy\n",
    "accuracy = accuracy_score(y_test, y_pred)\n",
    "print(\"Final accuracy score is: {:0.2f}%\".format(accuracy * 100))"
   ]
  },
  {
   "cell_type": "code",
   "execution_count": 57,
   "id": "59a98c0d",
   "metadata": {},
   "outputs": [
    {
     "name": "stdout",
     "output_type": "stream",
     "text": [
      "Final weighted precision score is: 95.61%\n"
     ]
    }
   ],
   "source": [
    "# precision weighted average - This parameter is required for multiclass/multilabel targets.\n",
    "precisionweighted = precision_score(y_test, y_pred, average='weighted')\n",
    "print(\"Final weighted precision score is: {:0.2f}%\".format(precisionweighted * 100))"
   ]
  },
  {
   "cell_type": "code",
   "execution_count": 58,
   "id": "a3e62ee8",
   "metadata": {},
   "outputs": [
    {
     "name": "stdout",
     "output_type": "stream",
     "text": [
      "Final weighted recall score is: 95.56%\n"
     ]
    }
   ],
   "source": [
    "# recall weighted average - This parameter is required for multiclass/multilabel targets.\n",
    "recallweighted = recall_score(y_test, y_pred, average='weighted')\n",
    "print(\"Final weighted recall score is: {:0.2f}%\".format(recallweighted * 100))"
   ]
  },
  {
   "cell_type": "code",
   "execution_count": 59,
   "id": "ebb39fe7",
   "metadata": {},
   "outputs": [
    {
     "name": "stdout",
     "output_type": "stream",
     "text": [
      "Final weighted f1 score is: 95.54%\n"
     ]
    }
   ],
   "source": [
    "# f1 weighted average - This parameter is required for multiclass/multilabel targets.\n",
    "f1weighted = f1_score(y_test, y_pred, average='weighted')\n",
    "print(\"Final weighted f1 score is: {:0.2f}%\".format(f1weighted * 100))"
   ]
  },
  {
   "cell_type": "code",
   "execution_count": 60,
   "id": "93807b47",
   "metadata": {},
   "outputs": [],
   "source": [
    "t1_recall = []\n",
    "vst3_recall = []\n",
    "st3_recall = []\n",
    "mt3_recall = []\n",
    "wt3_recall = []\n",
    "t0_recall = []\n",
    "\n",
    "def appendRecallForEachClass(arr):\n",
    "    t1_recall.append(arr[0])\n",
    "    vst3_recall.append(arr[1])\n",
    "    st3_recall.append(arr[2])\n",
    "    mt3_recall.append(arr[3])\n",
    "    wt3_recall.append(arr[4])\n",
    "    t0_recall.append(arr[5])\n",
    "    # printRecallForEachClass(arr)\n",
    "\n",
    "def printRecallForEachClass(arr):\n",
    "    print(arr)\n",
    "    print(t1_recall)\n",
    "    print(vst3_recall)\n",
    "    print(st3_recall)\n",
    "    print(mt3_recall)\n",
    "    print(wt3_recall)\n",
    "    print(t0_recall)"
   ]
  },
  {
   "cell_type": "code",
   "execution_count": 61,
   "id": "c0f9b289",
   "metadata": {},
   "outputs": [],
   "source": [
    "t1_precision = []\n",
    "vst3_precision = []\n",
    "st3_precision = []\n",
    "mt3_precision = []\n",
    "wt3_precision = []\n",
    "t0_precision = []\n",
    "\n",
    "def appendPrecisionForEachClass(arr):\n",
    "    t1_precision.append(arr[0])\n",
    "    vst3_precision.append(arr[1])\n",
    "    st3_precision.append(arr[2])\n",
    "    mt3_precision.append(arr[3])\n",
    "    wt3_precision.append(arr[4])\n",
    "    t0_precision.append(arr[5])\n",
    "    # printPrecisionForEachClass(arr)\n",
    "\n",
    "def printPrecisionForEachClass(arr):\n",
    "    print(arr)\n",
    "    print(t1_precision)\n",
    "    print(vst3_precision)\n",
    "    print(st3_precision)\n",
    "    print(mt3_precision)\n",
    "    print(wt3_precision)\n",
    "    print(t0_precision)"
   ]
  },
  {
   "cell_type": "code",
   "execution_count": 62,
   "id": "f2b43378",
   "metadata": {},
   "outputs": [],
   "source": [
    "t1_f1score = []\n",
    "vst3_f1score = []\n",
    "st3_f1score = []\n",
    "mt3_f1score = []\n",
    "wt3_f1score = []\n",
    "t0_f1score = []\n",
    "\n",
    "def appendF1ScoreForEachClass(arr):\n",
    "    t1_f1score.append(arr[0])\n",
    "    vst3_f1score.append(arr[1])\n",
    "    st3_f1score.append(arr[2])\n",
    "    mt3_f1score.append(arr[3])\n",
    "    wt3_f1score.append(arr[4])\n",
    "    t0_f1score.append(arr[5])\n",
    "    # printF1ScoreForEachClass(arr)\n",
    "\n",
    "def printF1ScoreForEachClass(arr):\n",
    "    print(arr)\n",
    "    print(t1_f1score)\n",
    "    print(vst3_f1score)\n",
    "    print(st3_f1score)\n",
    "    print(mt3_f1score)\n",
    "    print(wt3_f1score)\n",
    "    print(t0_f1score)"
   ]
  },
  {
   "cell_type": "code",
   "execution_count": 63,
   "id": "c5a1373e",
   "metadata": {},
   "outputs": [
    {
     "name": "stdout",
     "output_type": "stream",
     "text": [
      "Final macro recall score is: 95.56%\n",
      "Final micro recall score is: 95.56%\n",
      "Final weighted recall score is: 95.56%\n",
      "Final macro precision score is: 95.59%\n",
      "Final micro precision score is: 95.56%\n",
      "Final weighted precision score is: 95.61%\n",
      "Final macro f1 score is: 95.54%\n",
      "Final micro f1 score is: 95.56%\n",
      "Final weighted f1 score is: 95.54%\n"
     ]
    }
   ],
   "source": [
    "# recall\n",
    "\n",
    "# recall macro average - This parameter is required for multiclass/multilabel targets.\n",
    "recallmacro = recall_score(y_test, y_pred, average='macro')\n",
    "print(\"Final macro recall score is: {:0.2f}%\".format(recallmacro * 100))\n",
    "\n",
    "# recall micro average - This parameter is required for multiclass/multilabel targets.\n",
    "recallmicro = recall_score(y_test, y_pred, average='micro')\n",
    "print(\"Final micro recall score is: {:0.2f}%\".format(recallmicro * 100))\n",
    "\n",
    "# recall weighted average - This parameter is required for multiclass/multilabel targets.\n",
    "recallweighted = recall_score(y_test, y_pred, average='weighted')\n",
    "print(\"Final weighted recall score is: {:0.2f}%\".format(recallweighted * 100))\n",
    "\n",
    "# precision\n",
    "\n",
    "# precision macro average - This parameter is required for multiclass/multilabel targets.\n",
    "precisionmacro = precision_score(y_test, y_pred, average='macro')\n",
    "print(\"Final macro precision score is: {:0.2f}%\".format(precisionmacro * 100))\n",
    "\n",
    "# precision micro average - This parameter is required for multiclass/multilabel targets.\n",
    "precisionmicro = precision_score(y_test, y_pred, average='micro')\n",
    "print(\"Final micro precision score is: {:0.2f}%\".format(precisionmicro * 100))\n",
    "\n",
    "# precision weighted average - This parameter is required for multiclass/multilabel targets.\n",
    "precisionweighted = precision_score(y_test, y_pred, average='weighted')\n",
    "print(\"Final weighted precision score is: {:0.2f}%\".format(precisionweighted * 100))\n",
    "\n",
    "# f1 score\n",
    "\n",
    "# f1 macro average - This parameter is required for multiclass/multilabel targets.\n",
    "f1macro = f1_score(y_test, y_pred, average='macro')\n",
    "print(\"Final macro f1 score is: {:0.2f}%\".format(f1macro * 100))\n",
    "\n",
    "# f1 micro average - This parameter is required for multiclass/multilabel targets.\n",
    "f1micro = f1_score(y_test, y_pred, average='micro')\n",
    "print(\"Final micro f1 score is: {:0.2f}%\".format(f1micro * 100))\n",
    "\n",
    "# f1 weighted average - This parameter is required for multiclass/multilabel targets.\n",
    "f1weighted = f1_score(y_test, y_pred, average='weighted')\n",
    "print(\"Final weighted f1 score is: {:0.2f}%\".format(f1weighted * 100))\n",
    "\n",
    "# collect details class-vice\n",
    "appendRecallForEachClass(recall_score(y_test, y_pred, average=None))\n",
    "appendPrecisionForEachClass(precision_score(y_test, y_pred, average=None))\n",
    "appendF1ScoreForEachClass(f1_score(y_test, y_pred, average=None))"
   ]
  },
  {
   "cell_type": "code",
   "execution_count": 64,
   "id": "40290785",
   "metadata": {},
   "outputs": [
    {
     "name": "stdout",
     "output_type": "stream",
     "text": [
      "1\n",
      "Type 1 Recall: 96.74%\n",
      "VST3 Recall: 89.88%\n",
      "ST3 Recall: 87.79%\n",
      "MT3 Recall: 98.95%\n",
      "WT3/4 Recall: 100.00%\n",
      "False Recall: 100.00%\n"
     ]
    }
   ],
   "source": [
    "from statistics import mean\n",
    "\n",
    "# Recall by Class\n",
    "print(len(t1_recall))\n",
    "print(\"Type 1 Recall: {:0.2f}%\".format(mean(t1_recall) * 100))\n",
    "print(\"VST3 Recall: {:0.2f}%\".format(mean(vst3_recall) * 100))\n",
    "print(\"ST3 Recall: {:0.2f}%\".format(mean(st3_recall) * 100))\n",
    "print(\"MT3 Recall: {:0.2f}%\".format(mean(mt3_recall) * 100))\n",
    "print(\"WT3/4 Recall: {:0.2f}%\".format(mean(wt3_recall) * 100))\n",
    "print(\"False Recall: {:0.2f}%\".format(mean(t0_recall) * 100))"
   ]
  },
  {
   "cell_type": "code",
   "execution_count": 65,
   "id": "77364ccd",
   "metadata": {},
   "outputs": [
    {
     "name": "stdout",
     "output_type": "stream",
     "text": [
      "1\n",
      "Type 1 Precision: 99.92%\n",
      "VST3 Precision: 90.67%\n",
      "ST3 Precision: 92.08%\n",
      "MT3 Precision: 91.04%\n",
      "WT3/4 Precision: 99.92%\n",
      "False Precision: 99.92%\n"
     ]
    }
   ],
   "source": [
    "# Precision by Class\n",
    "print(len(wt3_precision))\n",
    "print(\"Type 1 Precision: {:0.2f}%\".format(mean(t1_precision) * 100))\n",
    "print(\"VST3 Precision: {:0.2f}%\".format(mean(vst3_precision) * 100))\n",
    "print(\"ST3 Precision: {:0.2f}%\".format(mean(st3_precision) * 100))\n",
    "print(\"MT3 Precision: {:0.2f}%\".format(mean(mt3_precision) * 100))\n",
    "print(\"WT3/4 Precision: {:0.2f}%\".format(mean(wt3_precision) * 100))\n",
    "print(\"False Precision: {:0.2f}%\".format(mean(t0_precision) * 100))"
   ]
  },
  {
   "cell_type": "code",
   "execution_count": 66,
   "id": "78b9dc1b",
   "metadata": {},
   "outputs": [
    {
     "name": "stdout",
     "output_type": "stream",
     "text": [
      "1\n",
      "Type 1 F1 Score: 98.30%\n",
      "VST3 F1 Score: 90.27%\n",
      "ST3 F1 Score: 89.88%\n",
      "MT3 F1 Score: 94.83%\n",
      "WT3/4 F1 Score: 99.96%\n",
      "False F1 Score: 99.96%\n"
     ]
    }
   ],
   "source": [
    "# F1 Score by Class\n",
    "print(len(mt3_f1score))\n",
    "print(\"Type 1 F1 Score: {:0.2f}%\".format(mean(t1_f1score) * 100))\n",
    "print(\"VST3 F1 Score: {:0.2f}%\".format(mean(vst3_f1score) * 100))\n",
    "print(\"ST3 F1 Score: {:0.2f}%\".format(mean(st3_f1score) * 100))\n",
    "print(\"MT3 F1 Score: {:0.2f}%\".format(mean(mt3_f1score) * 100))\n",
    "print(\"WT3/4 F1 Score: {:0.2f}%\".format(mean(wt3_f1score) * 100))\n",
    "print(\"False F1 Score: {:0.2f}%\".format(mean(t0_f1score) * 100))"
   ]
  },
  {
   "cell_type": "code",
   "execution_count": 67,
   "id": "373a09da",
   "metadata": {},
   "outputs": [
    {
     "data": {
      "image/png": "[encoded data removed]",
      "text/plain": [
       "<Figure size 640x480 with 1 Axes>"
      ]
     },
     "metadata": {},
     "output_type": "display_data"
    }
   ],
   "source": [
    "import matplotlib.pyplot as plt\n",
    "\n",
    "# summarize history for accuracy\n",
    "plt.plot(historyObject.history['accuracy'])\n",
    "# plt.plot(historyObject.history['val_acc'])\n",
    "plt.title('Model Accuracy')\n",
    "plt.ylabel('Accuracy')\n",
    "plt.xlabel('Epoch')\n",
    "plt.legend(['train', 'test'], loc='upper left')\n",
    "plt.show()"
   ]
  },
  {
   "cell_type": "code",
   "execution_count": 68,
   "id": "731f1a8d",
   "metadata": {},
   "outputs": [
    {
     "data": {
      "image/png": "[encoded data removed]",
      "text/plain": [
       "<Figure size 640x480 with 1 Axes>"
      ]
     },
     "metadata": {},
     "output_type": "display_data"
    }
   ],
   "source": [
    "# summarize history for loss\n",
    "plt.plot(historyObject.history['loss'])\n",
    "# plt.plot(historyObject.history['val_loss'])\n",
    "plt.title('Model Loss')\n",
    "plt.ylabel('Loss')\n",
    "plt.xlabel('Epoch')\n",
    "plt.legend(['train', 'test'], loc='upper left')\n",
    "plt.show()"
   ]
  },
  {
   "cell_type": "markdown",
   "id": "7ffb3adc",
   "metadata": {},
   "source": [
    "# Load History Log Data If Needed"
   ]
  },
  {
   "cell_type": "code",
   "execution_count": null,
   "id": "eb4077d0",
   "metadata": {},
   "outputs": [],
   "source": [
    "import pandas as pd\n",
    "log_data = pd.read_csv('ann_epoch_500_training.log', sep=',', engine='python')"
   ]
  },
  {
   "cell_type": "code",
   "execution_count": null,
   "id": "d7925d5d",
   "metadata": {},
   "outputs": [],
   "source": [
    "import matplotlib.pyplot as plt\n",
    "\n",
    "# summarize history for accuracy\n",
    "plt.plot(log_data['accuracy'])\n",
    "# plt.plot(historyObject.history['val_acc'])\n",
    "plt.title('Model Accuracy')\n",
    "plt.ylabel('Accuracy')\n",
    "plt.xlabel('Epoch')\n",
    "plt.legend(['train', 'test'], loc='upper left')\n",
    "plt.show()"
   ]
  },
  {
   "cell_type": "code",
   "execution_count": null,
   "id": "d2094c36",
   "metadata": {},
   "outputs": [],
   "source": [
    "# summarize history for loss\n",
    "plt.plot(log_data['loss'])\n",
    "# plt.plot(historyObject.history['val_loss'])\n",
    "plt.title('Model Loss')\n",
    "plt.ylabel('Loss')\n",
    "plt.xlabel('Epoch')\n",
    "plt.legend(['train', 'test'], loc='upper left')\n",
    "plt.show()"
   ]
  },
  {
   "cell_type": "code",
   "execution_count": 80,
   "id": "ffcb87f1",
   "metadata": {},
   "outputs": [],
   "source": [
    "y_pred_backup = y_pred\n",
    "y_test_backup = y_test"
   ]
  },
  {
   "cell_type": "code",
   "execution_count": 81,
   "id": "f878e319",
   "metadata": {},
   "outputs": [
    {
     "name": "stdout",
     "output_type": "stream",
     "text": [
      "{'loss': [3.3990631103515625, 1.502043604850769, 1.29777991771698, 1.1157479286193848, 0.9581391215324402, 0.8530059456825256, 0.8017531037330627, 0.7591179609298706, 0.7330578565597534, 0.6896420121192932, 0.6568135023117065, 0.6324910521507263, 0.5876391530036926, 0.5431166291236877, 0.5003068447113037, 0.5106831789016724, 0.4937537908554077, 0.44352683424949646, 0.36862504482269287, 0.33585023880004883], 'accuracy': [0.22525286674499512, 0.34714171290397644, 0.4192521870136261, 0.5201727747917175, 0.6071712970733643, 0.6530287265777588, 0.6691669225692749, 0.6875213384628296, 0.6921241283416748, 0.712069571018219, 0.7280941009521484, 0.739345371723175, 0.7596317529678345, 0.7916808724403381, 0.810035228729248, 0.8217411041259766, 0.8204909563064575, 0.8475963473320007, 0.8677690625190735, 0.8804978132247925]}\n"
     ]
    }
   ],
   "source": [
    "print(historyObject.history)"
   ]
  },
  {
   "cell_type": "code",
   "execution_count": 57,
   "id": "8fc090e9",
   "metadata": {},
   "outputs": [
    {
     "name": "stdout",
     "output_type": "stream",
     "text": [
      "Micro-averaged One-vs-Rest ROC AUC score:\n",
      "1.00\n"
     ]
    }
   ],
   "source": [
    "from sklearn.metrics import roc_auc_score\n",
    "\n",
    "micro_roc_auc_ovr = roc_auc_score(\n",
    "    y_test,\n",
    "    y_pred,\n",
    "    multi_class=\"ovr\",\n",
    "    average=\"micro\",\n",
    ")\n",
    "\n",
    "print(f\"Micro-averaged One-vs-Rest ROC AUC score:\\n{micro_roc_auc_ovr:.2f}\")"
   ]
  },
  {
   "cell_type": "code",
   "execution_count": 58,
   "id": "1cb863e6",
   "metadata": {},
   "outputs": [
    {
     "name": "stdout",
     "output_type": "stream",
     "text": [
      "Micro-averaged One-vs-Rest ROC AUC score:\n",
      "1.00\n"
     ]
    }
   ],
   "source": [
    "from sklearn.metrics import roc_curve, auc, RocCurveDisplay\n",
    "\n",
    "# store the fpr, tpr, and roc_auc for all averaging strategies\n",
    "fpr, tpr, roc_auc = dict(), dict(), dict()\n",
    "# Compute micro-average ROC curve and ROC area\n",
    "fpr[\"micro\"], tpr[\"micro\"], _ = roc_curve(y_test.ravel(), y_pred.ravel())\n",
    "roc_auc[\"micro\"] = auc(fpr[\"micro\"], tpr[\"micro\"])\n",
    "\n",
    "print(f\"Micro-averaged One-vs-Rest ROC AUC score:\\n{roc_auc['micro']:.2f}\")"
   ]
  },
  {
   "cell_type": "code",
   "execution_count": 59,
   "id": "82e4cde8",
   "metadata": {},
   "outputs": [
    {
     "data": {
      "image/png": "[encoded data removed]",
      "text/plain": [
       "<Figure size 640x480 with 1 Axes>"
      ]
     },
     "metadata": {},
     "output_type": "display_data"
    }
   ],
   "source": [
    "RocCurveDisplay.from_predictions(\n",
    "    y_test.ravel(),\n",
    "    y_pred.ravel(),\n",
    "    name=\"micro-average OvR\",\n",
    "    color=\"darkorange\",\n",
    ")\n",
    "plt.plot([0, 1], [0, 1], \"k--\", label=\"chance level (AUC = 0.5)\")\n",
    "plt.axis(\"square\")\n",
    "plt.xlabel(\"False Positive Rate\")\n",
    "plt.ylabel(\"True Positive Rate\")\n",
    "plt.title(\"Micro-averaged One-vs-Rest\\nReceiver Operating Characteristic\")\n",
    "plt.legend()\n",
    "plt.show()"
   ]
  },
  {
   "cell_type": "code",
   "execution_count": 60,
   "id": "bad835f7",
   "metadata": {},
   "outputs": [
    {
     "name": "stdout",
     "output_type": "stream",
     "text": [
      "Macro-averaged One-vs-Rest ROC AUC score:\n",
      "0.99\n"
     ]
    }
   ],
   "source": [
    "n_classes = y_test.shape[1]\n",
    "\n",
    "for i in range(n_classes):\n",
    "    fpr[i], tpr[i], _ = roc_curve(y_test[:, i], y_pred[:, i])\n",
    "    roc_auc[i] = auc(fpr[i], tpr[i])\n",
    "\n",
    "fpr_grid = np.linspace(0.0, 1.0, 1000)\n",
    "\n",
    "# Interpolate all ROC curves at these points\n",
    "mean_tpr = np.zeros_like(fpr_grid)\n",
    "\n",
    "for i in range(n_classes):\n",
    "    mean_tpr += np.interp(fpr_grid, fpr[i], tpr[i])  # linear interpolation\n",
    "\n",
    "# Average it and compute AUC\n",
    "mean_tpr /= n_classes\n",
    "\n",
    "fpr[\"macro\"] = fpr_grid\n",
    "tpr[\"macro\"] = mean_tpr\n",
    "roc_auc[\"macro\"] = auc(fpr[\"macro\"], tpr[\"macro\"])\n",
    "\n",
    "print(f\"Macro-averaged One-vs-Rest ROC AUC score:\\n{roc_auc['macro']:.2f}\")"
   ]
  },
  {
   "cell_type": "code",
   "execution_count": 61,
   "id": "8b296e5c",
   "metadata": {},
   "outputs": [
    {
     "data": {
      "image/png": "[encoded data removed]",
      "text/plain": [
       "<Figure size 600x600 with 1 Axes>"
      ]
     },
     "metadata": {},
     "output_type": "display_data"
    }
   ],
   "source": [
    "# https://scikit-learn.org/stable/auto_examples/model_selection/plot_roc.html#one-vs-rest-multiclass-roc\n",
    "\n",
    "from itertools import cycle\n",
    "\n",
    "fig, ax = plt.subplots(figsize=(6, 6))\n",
    "\n",
    "plt.plot(\n",
    "    fpr[\"micro\"],\n",
    "    tpr[\"micro\"],\n",
    "    label=f\"micro-average ROC curve (AUC = {roc_auc['micro']:.2f})\",\n",
    "    color=\"deeppink\",\n",
    "    linestyle=\":\",\n",
    "    linewidth=4,\n",
    ")\n",
    "\n",
    "plt.plot(\n",
    "    fpr[\"macro\"],\n",
    "    tpr[\"macro\"],\n",
    "    label=f\"macro-average ROC curve (AUC = {roc_auc['macro']:.2f})\",\n",
    "    color=\"navy\",\n",
    "    linestyle=\":\",\n",
    "    linewidth=4,\n",
    ")\n",
    "\n",
    "colors = cycle([\"aqua\", \"darkorange\", \"cornflowerblue\", \"orange\", \"purple\", \"pink\"])\n",
    "target_names = ['Type 1', 'VST3', 'ST3', 'MT3', 'WT3/4', 'False']\n",
    "\n",
    "for class_id, color in zip(range(n_classes), colors):\n",
    "    RocCurveDisplay.from_predictions(\n",
    "        y_test[:, class_id],\n",
    "        y_pred[:, class_id],\n",
    "        name=f\"ROC curve for {target_names[class_id]}\",\n",
    "        color=color,\n",
    "        ax=ax,\n",
    "    )\n",
    "\n",
    "plt.plot([0, 1], [0, 1], \"k--\", label=\"ROC curve for chance level (AUC = 0.5)\")\n",
    "plt.axis(\"square\")\n",
    "plt.xlabel(\"False Positive Rate\")\n",
    "plt.ylabel(\"True Positive Rate\")\n",
    "plt.title(\"Extension of Receiver Operating Characteristic\\nto One-vs-Rest multiclass\")\n",
    "plt.legend()\n",
    "plt.show()"
   ]
  },
  {
   "cell_type": "code",
   "execution_count": 85,
   "id": "258e4454",
   "metadata": {},
   "outputs": [
    {
     "name": "stdout",
     "output_type": "stream",
     "text": [
      "dict_keys(['loss', 'accuracy'])\n"
     ]
    }
   ],
   "source": [
    "print(historyObject.history.keys()) # model.fit returns 'History' object. We can access its 'history' attribute."
   ]
  },
  {
   "cell_type": "code",
   "execution_count": 69,
   "id": "fd7f902b",
   "metadata": {},
   "outputs": [
    {
     "data": {
      "image/png": "[encoded data removed]",
      "text/plain": [
       "<Figure size 640x480 with 1 Axes>"
      ]
     },
     "metadata": {},
     "output_type": "display_data"
    }
   ],
   "source": [
    "# We can plot the training and validation accuracies at each epoch by using the history variable returned by the fit function.\n",
    "import matplotlib.pyplot as plt\n",
    "\n",
    "loss = historyObject.history['loss']\n",
    "# val_loss = siamese_net.history['val_loss']\n",
    "epochs = range(1, len(loss) + 1)\n",
    "plt.plot(epochs, loss, 'y', label='Training loss')\n",
    "# plt.plot(epochs, val_loss, 'r', label='Validation loss')\n",
    "plt.title('Training and validation loss')\n",
    "plt.xlabel('Epochs')\n",
    "plt.ylabel('Loss')\n",
    "plt.legend()\n",
    "plt.show()"
   ]
  },
  {
   "cell_type": "code",
   "execution_count": 70,
   "id": "5d1a9d2a",
   "metadata": {},
   "outputs": [
    {
     "data": {
      "image/png": "[encoded data removed]",
      "text/plain": [
       "<Figure size 640x480 with 1 Axes>"
      ]
     },
     "metadata": {},
     "output_type": "display_data"
    }
   ],
   "source": [
    "acc = historyObject.history['accuracy']\n",
    "# val_acc = siamese_net.history['val_acc']\n",
    "plt.plot(epochs, acc, 'y', label='Training acc')\n",
    "# plt.plot(epochs, val_acc, 'r', label='Validation acc')\n",
    "plt.title('Training and validation accuracy')\n",
    "plt.xlabel('Epochs')\n",
    "plt.ylabel('Accuracy')\n",
    "plt.legend()\n",
    "plt.show()"
   ]
  },
  {
   "cell_type": "markdown",
   "id": "7c65217f",
   "metadata": {},
   "source": [
    "# # Train-Test Method Ends!"
   ]
  }
 ],
 "metadata": {
  "kernelspec": {
   "display_name": "Python 3 (ipykernel)",
   "language": "python",
   "name": "python3"
  },
  "language_info": {
   "codemirror_mode": {
    "name": "ipython",
    "version": 3
   },
   "file_extension": ".py",
   "mimetype": "text/x-python",
   "name": "python",
   "nbconvert_exporter": "python",
   "pygments_lexer": "ipython3",
   "version": "3.9.18"
  }
 },
 "nbformat": 4,
 "nbformat_minor": 5
}
